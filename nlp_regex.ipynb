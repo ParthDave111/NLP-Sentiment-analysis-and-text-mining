{
  "nbformat": 4,
  "nbformat_minor": 0,
  "metadata": {
    "colab": {
      "provenance": []
    },
    "kernelspec": {
      "name": "python3",
      "display_name": "Python 3"
    },
    "language_info": {
      "name": "python"
    }
  },
  "cells": [
    {
      "cell_type": "markdown",
      "source": [
        "NLP --> Using Python NLTK tool kit\n",
        "\n"
      ],
      "metadata": {
        "id": "_rZsgKS9ZHoz"
      }
    },
    {
      "cell_type": "code",
      "source": [],
      "metadata": {
        "id": "Kzs-p1WrZKiR"
      },
      "execution_count": null,
      "outputs": []
    },
    {
      "cell_type": "markdown",
      "source": [
        "Free model in NLP"
      ],
      "metadata": {
        "id": "Mb2qbxTJ9XOP"
      }
    },
    {
      "cell_type": "markdown",
      "source": [
        "https://tfhub.dev/tensorflow/bert_en_uncased_L-12_H-768_A-12/4"
      ],
      "metadata": {
        "id": "uDFoHcpz9UII"
      }
    },
    {
      "cell_type": "markdown",
      "source": [
        "FB : https://fasttext.cc/"
      ],
      "metadata": {
        "id": "h2yS_ErM9jca"
      }
    },
    {
      "cell_type": "markdown",
      "source": [
        "Open ai : Chat gpt"
      ],
      "metadata": {
        "id": "u3_huLRZ9sM3"
      }
    },
    {
      "cell_type": "markdown",
      "source": [
        "https://huggingface.co/tasks/sentence-similarity"
      ],
      "metadata": {
        "id": "pYNRva8fO-yU"
      }
    },
    {
      "cell_type": "markdown",
      "source": [
        "## NLP Tutorial: Regular Expressions (REGEX)"
      ],
      "metadata": {
        "id": "s2lI2NrE-08H"
      }
    },
    {
      "cell_type": "code",
      "source": [
        "import re"
      ],
      "metadata": {
        "id": "VtlqvNIc9s7k"
      },
      "execution_count": 2,
      "outputs": []
    },
    {
      "cell_type": "markdown",
      "source": [
        "## order"
      ],
      "metadata": {
        "id": "HufHg0Q4G4oR"
      }
    },
    {
      "cell_type": "markdown",
      "source": [
        "Regex resource : https://regex101.com/"
      ],
      "metadata": {
        "id": "wGlXu3P8_ycS"
      }
    },
    {
      "cell_type": "code",
      "source": [
        "chat1=' Hello, I am having an issue with my order # 400'\n",
        "chat2=' I have a problem with my order number 402 also my num is 903-(111)-000'\n",
        "chat3=' My order 422 is having an issue, I was charged 300$ when online it says 280$'"
      ],
      "metadata": {
        "id": "m_5ccByF_rl0"
      },
      "execution_count": 14,
      "outputs": []
    },
    {
      "cell_type": "code",
      "source": [
        "pattern = '\\d{3}'\n",
        "\n",
        "matches = re.findall(pattern,chat1)\n",
        "matches"
      ],
      "metadata": {
        "colab": {
          "base_uri": "https://localhost:8080/"
        },
        "id": "I-qf2X-jA1Kv",
        "outputId": "72066952-ce49-4b09-e6c1-2104bc970551"
      },
      "execution_count": 4,
      "outputs": [
        {
          "output_type": "execute_result",
          "data": {
            "text/plain": [
              "['400']"
            ]
          },
          "metadata": {},
          "execution_count": 4
        }
      ]
    },
    {
      "cell_type": "code",
      "source": [
        "pattern = '\\d{3}'\n",
        "\n",
        "matches = re.findall(pattern,chat2)\n",
        "matches"
      ],
      "metadata": {
        "colab": {
          "base_uri": "https://localhost:8080/"
        },
        "id": "vvv1SvwfA_2K",
        "outputId": "17bcbdae-4480-4141-ebc2-dacbcab08029"
      },
      "execution_count": 5,
      "outputs": [
        {
          "output_type": "execute_result",
          "data": {
            "text/plain": [
              "['402']"
            ]
          },
          "metadata": {},
          "execution_count": 5
        }
      ]
    },
    {
      "cell_type": "code",
      "source": [
        "## regext to check phone number \\d{3}-\\(\\d{3}\\)-\\d{4}"
      ],
      "metadata": {
        "id": "G_VJKV87BKKG"
      },
      "execution_count": 8,
      "outputs": []
    },
    {
      "cell_type": "code",
      "source": [
        "test = 'my cell phone is 123-(456)-789'"
      ],
      "metadata": {
        "id": "MCbrCyC1C5_a"
      },
      "execution_count": 31,
      "outputs": []
    },
    {
      "cell_type": "code",
      "source": [
        "pattern = '\\d{3} \\(\\d{3}\\) \\d{3}'\n",
        "\n",
        "matches = re.findall(pattern,test)\n",
        "matches"
      ],
      "metadata": {
        "colab": {
          "base_uri": "https://localhost:8080/"
        },
        "id": "8zIFz-eKCsml",
        "outputId": "ed345b65-f6a5-42af-80d4-3f638bbac363"
      },
      "execution_count": 32,
      "outputs": [
        {
          "output_type": "execute_result",
          "data": {
            "text/plain": [
              "[]"
            ]
          },
          "metadata": {},
          "execution_count": 32
        }
      ]
    },
    {
      "cell_type": "code",
      "source": [
        "test = 'my cell phone is 123-456-789'"
      ],
      "metadata": {
        "id": "0wwdxiGODZ9h"
      },
      "execution_count": 33,
      "outputs": []
    },
    {
      "cell_type": "code",
      "source": [
        "pattern = '\\d{3} \\(\\d{3}\\) \\d{3}'\n",
        "\n",
        "matches = re.findall(pattern,test)\n",
        "matches"
      ],
      "metadata": {
        "colab": {
          "base_uri": "https://localhost:8080/"
        },
        "id": "OktEZx6PD5oG",
        "outputId": "a3fe33d0-b285-4fc7-ba02-53375638cbb1"
      },
      "execution_count": 35,
      "outputs": [
        {
          "output_type": "execute_result",
          "data": {
            "text/plain": [
              "[]"
            ]
          },
          "metadata": {},
          "execution_count": 35
        }
      ]
    },
    {
      "cell_type": "code",
      "source": [
        "## Test data"
      ],
      "metadata": {
        "id": "PMTeSjGID7rY"
      },
      "execution_count": null,
      "outputs": []
    },
    {
      "cell_type": "markdown",
      "source": [
        "#chat1 = ' you ask lot of questions 😠  1235678912, abc@xyz.com'\n",
        "#chat2 = ' here it is: (123)-567-8912, abc@xyz.com'\n",
        "# chat3 = ' yes, phone: 1235678912 email: abc@xyz.com'"
      ],
      "metadata": {
        "id": "HtdudcycESna"
      }
    },
    {
      "cell_type": "code",
      "source": [
        "## email pattern = [a-z0-9A-Z_]*@[a-z0-9A-Z]*.\\.com"
      ],
      "metadata": {
        "id": "ohl7DZpVEc6Y"
      },
      "execution_count": 36,
      "outputs": []
    },
    {
      "cell_type": "markdown",
      "source": [
        "Email"
      ],
      "metadata": {
        "id": "PS5L_PPmFxNc"
      }
    },
    {
      "cell_type": "code",
      "source": [
        "chat1 = ' you ask lot of questions 😠 1235678912, abc@xyz.com'\n",
        "chat2 = ' here it is: (123)-567-8912, abc@xyz.com'\n",
        "chat3 = ' yes, phone: 1235678912 email: abc@xyz.com'"
      ],
      "metadata": {
        "id": "_bRz6EyjF1gy"
      },
      "execution_count": 38,
      "outputs": []
    },
    {
      "cell_type": "code",
      "source": [
        "pattern = '[a-z0-9A-Z_]*@[a-z0-9A-Z]*.\\.com'\n",
        "\n",
        "matches = re.findall(pattern,chat1)\n",
        "matches"
      ],
      "metadata": {
        "colab": {
          "base_uri": "https://localhost:8080/"
        },
        "id": "2e-_ijjeFv3S",
        "outputId": "0de3e68b-eedc-4a04-c90e-f954c31f44e6"
      },
      "execution_count": 40,
      "outputs": [
        {
          "output_type": "execute_result",
          "data": {
            "text/plain": [
              "['abc@xyz.com']"
            ]
          },
          "metadata": {},
          "execution_count": 40
        }
      ]
    },
    {
      "cell_type": "markdown",
      "source": [
        "Phone"
      ],
      "metadata": {
        "id": "-7fwAy8wGVcM"
      }
    },
    {
      "cell_type": "code",
      "source": [
        "## email pattern = '(\\d{10})|(\\(\\d{3}\\)-\\d{3}-\\d{4})'"
      ],
      "metadata": {
        "id": "-hNkA4J7F6Ai"
      },
      "execution_count": 41,
      "outputs": []
    },
    {
      "cell_type": "code",
      "source": [
        "pattern = '(\\d{10})|(\\(\\d{3}\\)-\\d{3}-\\d{4})'\n",
        "\n",
        "matches = re.findall(pattern,chat1)\n",
        "matches"
      ],
      "metadata": {
        "colab": {
          "base_uri": "https://localhost:8080/"
        },
        "id": "nw1SBZuGGfIF",
        "outputId": "5a0842e7-7b70-4b96-cd3d-39dd056b94b5"
      },
      "execution_count": 43,
      "outputs": [
        {
          "output_type": "execute_result",
          "data": {
            "text/plain": [
              "[('1235678912', '')]"
            ]
          },
          "metadata": {},
          "execution_count": 43
        }
      ]
    },
    {
      "cell_type": "code",
      "source": [
        "pattern = '(\\d{10})|(\\(\\d{3}\\)-\\d{3}-\\d{4})'\n",
        "\n",
        "matches = re.findall(pattern,chat2)\n",
        "matches"
      ],
      "metadata": {
        "colab": {
          "base_uri": "https://localhost:8080/"
        },
        "id": "0EhRQMenGimV",
        "outputId": "78c782eb-33e8-4294-d999-8ecc1746bffd"
      },
      "execution_count": 44,
      "outputs": [
        {
          "output_type": "execute_result",
          "data": {
            "text/plain": [
              "[('', '(123)-567-8912')]"
            ]
          },
          "metadata": {},
          "execution_count": 44
        }
      ]
    },
    {
      "cell_type": "code",
      "source": [
        "pattern = '(\\d{10})|(\\(\\d{3}\\)-\\d{3}-\\d{4})'\n",
        "\n",
        "matches = re.findall(pattern,chat3)\n",
        "matches"
      ],
      "metadata": {
        "colab": {
          "base_uri": "https://localhost:8080/"
        },
        "id": "p1OYB5mrGrXO",
        "outputId": "64c5f7f8-506c-4bd0-b8f1-2ebb0e423a41"
      },
      "execution_count": 45,
      "outputs": [
        {
          "output_type": "execute_result",
          "data": {
            "text/plain": [
              "[('1235678912', '')]"
            ]
          },
          "metadata": {},
          "execution_count": 45
        }
      ]
    },
    {
      "cell_type": "code",
      "source": [
        "### Information extraction"
      ],
      "metadata": {
        "id": "8twB8ZZbGvgM"
      },
      "execution_count": 46,
      "outputs": []
    },
    {
      "cell_type": "code",
      "source": [
        "text='''\n",
        "Born\tElon Reeve Musk\n",
        "June 28, 1971 (age 50)\n",
        "Pretoria, Transvaal, South Africa\n",
        "Citizenship\n",
        "South Africa (1971–present)\n",
        "Canada (1971–present)\n",
        "United States (2002–present)\n",
        "Education\tUniversity of Pennsylvania (BS, BA)\n",
        "Title\n",
        "Founder, CEO and Chief Engineer of SpaceX\n",
        "CEO and product architect of Tesla, Inc.\n",
        "Founder of The Boring Company and X.com (now part of PayPal)\n",
        "Co-founder of Neuralink, OpenAI, and Zip2\n",
        "Spouse(s)\n",
        "Justine Wilson\n",
        "​\n",
        "​(m. 2000; div. 2008)​\n",
        "Talulah Riley\n",
        "​\n",
        "​(m. 2010; div. 2012)​\n",
        "​\n",
        "​(m. 2013; div. 2016)\n",
        "'''\n"
      ],
      "metadata": {
        "id": "qZ4He8rAHdn4"
      },
      "execution_count": 47,
      "outputs": []
    },
    {
      "cell_type": "code",
      "source": [
        "## age"
      ],
      "metadata": {
        "id": "FlMS6y86HjvR"
      },
      "execution_count": 48,
      "outputs": []
    },
    {
      "cell_type": "code",
      "source": [
        "pattern = '(age \\d+)'\n",
        "\n",
        "matches = re.findall(pattern,text)\n",
        "matches"
      ],
      "metadata": {
        "colab": {
          "base_uri": "https://localhost:8080/"
        },
        "id": "FivN0k-SH77o",
        "outputId": "90322aec-7a17-4817-869e-409486f6cf08"
      },
      "execution_count": 50,
      "outputs": [
        {
          "output_type": "execute_result",
          "data": {
            "text/plain": [
              "['age 50']"
            ]
          },
          "metadata": {},
          "execution_count": 50
        }
      ]
    },
    {
      "cell_type": "code",
      "source": [
        "## Name"
      ],
      "metadata": {
        "id": "dkpG6l6QIAyp"
      },
      "execution_count": 51,
      "outputs": []
    },
    {
      "cell_type": "code",
      "source": [
        "pattern = 'Born(.*)\\n'\n",
        "\n",
        "matches = re.findall(pattern,text)\n",
        "matches"
      ],
      "metadata": {
        "colab": {
          "base_uri": "https://localhost:8080/"
        },
        "id": "Z0ffi6GyIVVf",
        "outputId": "dcbd3e93-2b25-40bb-8717-291460206cd1"
      },
      "execution_count": 52,
      "outputs": [
        {
          "output_type": "execute_result",
          "data": {
            "text/plain": [
              "['\\tElon Reeve Musk']"
            ]
          },
          "metadata": {},
          "execution_count": 52
        }
      ]
    },
    {
      "cell_type": "code",
      "source": [
        "## birth date"
      ],
      "metadata": {
        "id": "oict8A3QIY4P"
      },
      "execution_count": 53,
      "outputs": []
    },
    {
      "cell_type": "code",
      "source": [
        "pattern = 'Born.*\\n(.*)\\(age'\n",
        "\n",
        "matches = re.findall(pattern,text)\n",
        "matches"
      ],
      "metadata": {
        "colab": {
          "base_uri": "https://localhost:8080/"
        },
        "id": "6j7JgSTRIduF",
        "outputId": "d17d9558-449d-4f0c-8877-75cbf3edbfe1"
      },
      "execution_count": 54,
      "outputs": [
        {
          "output_type": "execute_result",
          "data": {
            "text/plain": [
              "['June 28, 1971 ']"
            ]
          },
          "metadata": {},
          "execution_count": 54
        }
      ]
    },
    {
      "cell_type": "code",
      "source": [
        "# Find DOB\n",
        "pattern = 'Born.*\\n(.*)\\(age'\n",
        "\n",
        "matches = re.findall(pattern,text)\n",
        "matches"
      ],
      "metadata": {
        "colab": {
          "base_uri": "https://localhost:8080/"
        },
        "id": "-MKrRrmFIoyH",
        "outputId": "3f1cab83-eac3-418e-8075-4a464f0384a9"
      },
      "execution_count": 59,
      "outputs": [
        {
          "output_type": "execute_result",
          "data": {
            "text/plain": [
              "['June 28, 1971 ']"
            ]
          },
          "metadata": {},
          "execution_count": 59
        }
      ]
    },
    {
      "cell_type": "code",
      "source": [
        "## BiRTH PLACE\n",
        "pattern = '\\(age.*\\n(.*)'\n",
        "\n",
        "matches = re.findall(pattern,text)\n",
        "matches"
      ],
      "metadata": {
        "colab": {
          "base_uri": "https://localhost:8080/"
        },
        "id": "cZJU0jxvItXX",
        "outputId": "ddc328ca-f9c3-48f6-c861-f521751c75af"
      },
      "execution_count": 62,
      "outputs": [
        {
          "output_type": "execute_result",
          "data": {
            "text/plain": [
              "['Pretoria, Transvaal, South Africa']"
            ]
          },
          "metadata": {},
          "execution_count": 62
        }
      ]
    },
    {
      "cell_type": "code",
      "source": [
        "## DEFINE A FUNCTION"
      ],
      "metadata": {
        "id": "ZTlHV6m6I59V"
      },
      "execution_count": 63,
      "outputs": []
    },
    {
      "cell_type": "code",
      "source": [
        "def get_pattern_match(pattern, text):\n",
        "    matches = re.findall(pattern, text)\n",
        "    if matches:\n",
        "        return matches[0]"
      ],
      "metadata": {
        "id": "ryYV40fSJO0P"
      },
      "execution_count": 64,
      "outputs": []
    },
    {
      "cell_type": "code",
      "source": [
        "get_pattern_match('\\(age.*\\n(.*)',text)"
      ],
      "metadata": {
        "colab": {
          "base_uri": "https://localhost:8080/",
          "height": 35
        },
        "id": "aRO1fV-DJPzY",
        "outputId": "be748cf1-ae8a-4894-d89f-5937c8c4a03c"
      },
      "execution_count": 67,
      "outputs": [
        {
          "output_type": "execute_result",
          "data": {
            "text/plain": [
              "'Pretoria, Transvaal, South Africa'"
            ],
            "application/vnd.google.colaboratory.intrinsic+json": {
              "type": "string"
            }
          },
          "metadata": {},
          "execution_count": 67
        }
      ]
    },
    {
      "cell_type": "code",
      "source": [
        "def extract_personal_information(text):\n",
        "    age = get_pattern_match('age (\\d+)', text)\n",
        "    full_name = get_pattern_match('Born(.*)\\n', text)\n",
        "    birth_date = get_pattern_match('Born.*\\n(.*)\\(age', text)\n",
        "    birth_place = get_pattern_match('\\(age.*\\n(.*)', text)\n",
        "    return {\n",
        "        'age': int(age),\n",
        "        'name': full_name.strip(),\n",
        "        'birth_date': birth_date.strip(),\n",
        "        'birth_place': birth_place.strip()\n",
        "    }"
      ],
      "metadata": {
        "id": "g3mnqUgjJVfX"
      },
      "execution_count": 68,
      "outputs": []
    },
    {
      "cell_type": "code",
      "source": [
        "extract_personal_information(text)"
      ],
      "metadata": {
        "colab": {
          "base_uri": "https://localhost:8080/"
        },
        "id": "Tp5vxnVjJfj7",
        "outputId": "aa6676c8-299e-4aa0-be2b-df87d77930e9"
      },
      "execution_count": 69,
      "outputs": [
        {
          "output_type": "execute_result",
          "data": {
            "text/plain": [
              "{'age': 50,\n",
              " 'name': 'Elon Reeve Musk',\n",
              " 'birth_date': 'June 28, 1971',\n",
              " 'birth_place': 'Pretoria, Transvaal, South Africa'}"
            ]
          },
          "metadata": {},
          "execution_count": 69
        }
      ]
    },
    {
      "cell_type": "code",
      "source": [],
      "metadata": {
        "id": "ySvUlK4rJhtG"
      },
      "execution_count": null,
      "outputs": []
    }
  ]
}