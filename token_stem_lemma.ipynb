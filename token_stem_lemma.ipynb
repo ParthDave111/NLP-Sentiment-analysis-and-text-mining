{
  "nbformat": 4,
  "nbformat_minor": 0,
  "metadata": {
    "colab": {
      "provenance": []
    },
    "kernelspec": {
      "name": "python3",
      "display_name": "Python 3"
    },
    "language_info": {
      "name": "python"
    }
  },
  "cells": [
    {
      "cell_type": "code",
      "execution_count": 1,
      "metadata": {
        "colab": {
          "base_uri": "https://localhost:8080/"
        },
        "id": "Bf-n5z_L9u_E",
        "outputId": "3afc0b05-8174-4bf1-bfdf-1a4459f7e6da"
      },
      "outputs": [
        {
          "output_type": "stream",
          "name": "stdout",
          "text": [
            "Requirement already satisfied: nltk in /usr/local/lib/python3.10/dist-packages (3.8.1)\n",
            "Requirement already satisfied: click in /usr/local/lib/python3.10/dist-packages (from nltk) (8.1.7)\n",
            "Requirement already satisfied: joblib in /usr/local/lib/python3.10/dist-packages (from nltk) (1.3.2)\n",
            "Requirement already satisfied: regex>=2021.8.3 in /usr/local/lib/python3.10/dist-packages (from nltk) (2023.6.3)\n",
            "Requirement already satisfied: tqdm in /usr/local/lib/python3.10/dist-packages (from nltk) (4.66.1)\n"
          ]
        }
      ],
      "source": [
        "pip install nltk"
      ]
    },
    {
      "cell_type": "code",
      "source": [
        "# 2 types of tokenization\n",
        "#1. Word tokenization\n",
        "# 2. Sentence tokenization"
      ],
      "metadata": {
        "id": "MGMHie129wpL"
      },
      "execution_count": 2,
      "outputs": []
    },
    {
      "cell_type": "markdown",
      "source": [
        "4 ways to tokenize in python\n",
        "1. Split function\n",
        "2.Regular expression\n",
        "3. NLTK\n",
        "4.SPACY"
      ],
      "metadata": {
        "id": "nPDe8Bmu-DvF"
      }
    },
    {
      "cell_type": "code",
      "source": [
        "#1. Split function"
      ],
      "metadata": {
        "id": "bzCBujl-I8SU"
      },
      "execution_count": 76,
      "outputs": []
    },
    {
      "cell_type": "code",
      "source": [
        "# word tokenization\n",
        "sent1 = 'I am visitingt New york'\n",
        "sent1.split()"
      ],
      "metadata": {
        "id": "-X5eKrSLItVg",
        "outputId": "3f08f8a8-959a-4071-9511-5e9fbac839d0",
        "colab": {
          "base_uri": "https://localhost:8080/"
        }
      },
      "execution_count": 77,
      "outputs": [
        {
          "output_type": "execute_result",
          "data": {
            "text/plain": [
              "['I', 'am', 'visitingt', 'New', 'york']"
            ]
          },
          "metadata": {},
          "execution_count": 77
        }
      ]
    },
    {
      "cell_type": "code",
      "source": [
        "# split functions fails at following scenarios\n"
      ],
      "metadata": {
        "id": "4V27vxPYItQU"
      },
      "execution_count": 78,
      "outputs": []
    },
    {
      "cell_type": "code",
      "source": [
        "sent2 = 'I am visiting to NEW YORK. I will stay there for 3 days. Let\\'s hope the trip to be great'\n",
        "sent2.split('.')"
      ],
      "metadata": {
        "id": "oUo4Bnt0ItN1",
        "outputId": "a29b017f-6998-4ee2-c49e-aad80ee64c0e",
        "colab": {
          "base_uri": "https://localhost:8080/"
        }
      },
      "execution_count": 79,
      "outputs": [
        {
          "output_type": "execute_result",
          "data": {
            "text/plain": [
              "['I am visiting to NEW YORK',\n",
              " ' I will stay there for 3 days',\n",
              " \" Let's hope the trip to be great\"]"
            ]
          },
          "metadata": {},
          "execution_count": 79
        }
      ]
    },
    {
      "cell_type": "code",
      "source": [
        "sent3 = 'I am visiting New york!'\n",
        "sent3.split()"
      ],
      "metadata": {
        "id": "5qxKOLrkItLX",
        "outputId": "48e20d91-a938-4903-b3a0-e1c112808c8c",
        "colab": {
          "base_uri": "https://localhost:8080/"
        }
      },
      "execution_count": 80,
      "outputs": [
        {
          "output_type": "execute_result",
          "data": {
            "text/plain": [
              "['I', 'am', 'visiting', 'New', 'york!']"
            ]
          },
          "metadata": {},
          "execution_count": 80
        }
      ]
    },
    {
      "cell_type": "code",
      "source": [
        "sent3 = 'are you visiting new york?'\n",
        "sent3.split()"
      ],
      "metadata": {
        "id": "hm3U19kjItIL",
        "outputId": "57c8450a-f43e-4050-d11b-71d8f6e29c73",
        "colab": {
          "base_uri": "https://localhost:8080/"
        }
      },
      "execution_count": 81,
      "outputs": [
        {
          "output_type": "execute_result",
          "data": {
            "text/plain": [
              "['are', 'you', 'visiting', 'new', 'york?']"
            ]
          },
          "metadata": {},
          "execution_count": 81
        }
      ]
    },
    {
      "cell_type": "markdown",
      "source": [
        "2 Regular expression"
      ],
      "metadata": {
        "id": "5WgrI13NJ2MT"
      }
    },
    {
      "cell_type": "code",
      "source": [
        "# remove exclaimation !\n",
        "import re\n",
        "tokens = re.findall(\"[\\w']+\", sent3)\n",
        "tokens"
      ],
      "metadata": {
        "id": "dIuIBxI0Jyph",
        "outputId": "ac48cdfd-83ea-45bd-9b7d-806b555643c1",
        "colab": {
          "base_uri": "https://localhost:8080/"
        }
      },
      "execution_count": 83,
      "outputs": [
        {
          "output_type": "execute_result",
          "data": {
            "text/plain": [
              "['are', 'you', 'visiting', 'new', 'york']"
            ]
          },
          "metadata": {},
          "execution_count": 83
        }
      ]
    },
    {
      "cell_type": "markdown",
      "source": [
        "Now to overcome all this challenges - Recommeded is to use library"
      ],
      "metadata": {
        "id": "PHbVOHIXKDz8"
      }
    },
    {
      "cell_type": "markdown",
      "source": [
        "Library#1 NLTK"
      ],
      "metadata": {
        "id": "nkXJCsPOKMlS"
      }
    },
    {
      "cell_type": "code",
      "source": [
        "from nltk.tokenize import word_tokenize,sent_tokenize"
      ],
      "metadata": {
        "id": "JVEeJPorJynF"
      },
      "execution_count": 84,
      "outputs": []
    },
    {
      "cell_type": "code",
      "source": [
        "word_tokenize(sent1)"
      ],
      "metadata": {
        "id": "WynspE7qJyiN",
        "outputId": "fe869dd3-18c5-480f-d40e-bace0cbc9b81",
        "colab": {
          "base_uri": "https://localhost:8080/"
        }
      },
      "execution_count": 85,
      "outputs": [
        {
          "output_type": "execute_result",
          "data": {
            "text/plain": [
              "['I', 'am', 'visitingt', 'New', 'york']"
            ]
          },
          "metadata": {},
          "execution_count": 85
        }
      ]
    },
    {
      "cell_type": "code",
      "source": [
        "word_tokenize(sent2)"
      ],
      "metadata": {
        "id": "-BDvA8UjJyf7",
        "outputId": "c8496e27-3c93-4923-9b58-cc52aa3555b6",
        "colab": {
          "base_uri": "https://localhost:8080/"
        }
      },
      "execution_count": 86,
      "outputs": [
        {
          "output_type": "execute_result",
          "data": {
            "text/plain": [
              "['I',\n",
              " 'am',\n",
              " 'visiting',\n",
              " 'to',\n",
              " 'NEW',\n",
              " 'YORK',\n",
              " '.',\n",
              " 'I',\n",
              " 'will',\n",
              " 'stay',\n",
              " 'there',\n",
              " 'for',\n",
              " '3',\n",
              " 'days',\n",
              " '.',\n",
              " 'Let',\n",
              " \"'s\",\n",
              " 'hope',\n",
              " 'the',\n",
              " 'trip',\n",
              " 'to',\n",
              " 'be',\n",
              " 'great']"
            ]
          },
          "metadata": {},
          "execution_count": 86
        }
      ]
    },
    {
      "cell_type": "code",
      "source": [
        "word_tokenize(sent3)"
      ],
      "metadata": {
        "id": "1j1BF6MJJydd",
        "outputId": "cc3f15b2-717a-440b-81d4-fd5989ecaf6a",
        "colab": {
          "base_uri": "https://localhost:8080/"
        }
      },
      "execution_count": 87,
      "outputs": [
        {
          "output_type": "execute_result",
          "data": {
            "text/plain": [
              "['are', 'you', 'visiting', 'new', 'york', '?']"
            ]
          },
          "metadata": {},
          "execution_count": 87
        }
      ]
    },
    {
      "cell_type": "code",
      "source": [
        "sent5 =\"i drove 100km today\""
      ],
      "metadata": {
        "id": "dKQBlUOCJyYu"
      },
      "execution_count": 90,
      "outputs": []
    },
    {
      "cell_type": "code",
      "source": [
        "word_tokenize(sent5)"
      ],
      "metadata": {
        "id": "BFk7jzcPJyWP",
        "outputId": "dd5dc092-c3fd-4e3e-db3a-673565636c8b",
        "colab": {
          "base_uri": "https://localhost:8080/"
        }
      },
      "execution_count": 91,
      "outputs": [
        {
          "output_type": "execute_result",
          "data": {
            "text/plain": [
              "['i', 'drove', '100km', 'today']"
            ]
          },
          "metadata": {},
          "execution_count": 91
        }
      ]
    },
    {
      "cell_type": "markdown",
      "source": [
        "Library#2 SPACY"
      ],
      "metadata": {
        "id": "2Bm2CX2WKs19"
      }
    },
    {
      "cell_type": "code",
      "source": [
        "import spacy\n",
        "nlp = spacy.load('en_core_web_sm')"
      ],
      "metadata": {
        "id": "3RCKyuRpJyTe"
      },
      "execution_count": 92,
      "outputs": []
    },
    {
      "cell_type": "code",
      "source": [
        "# for spacy it is important that you convert your string to documents"
      ],
      "metadata": {
        "id": "wyiazn4JJyQl"
      },
      "execution_count": 93,
      "outputs": []
    },
    {
      "cell_type": "code",
      "source": [
        "doc1 =nlp(sent1)"
      ],
      "metadata": {
        "id": "mShmkfY6JyNL"
      },
      "execution_count": 95,
      "outputs": []
    },
    {
      "cell_type": "code",
      "source": [
        "doc2 =nlp(sent2)"
      ],
      "metadata": {
        "id": "gZ-S7XkQJyKG"
      },
      "execution_count": 96,
      "outputs": []
    },
    {
      "cell_type": "code",
      "source": [
        "doc3 =nlp(sent3)"
      ],
      "metadata": {
        "id": "cW-ucq2IJyG-"
      },
      "execution_count": 97,
      "outputs": []
    },
    {
      "cell_type": "code",
      "source": [
        "doc4 =nlp(sent5)\n"
      ],
      "metadata": {
        "id": "dI-v7da9JyC2"
      },
      "execution_count": 99,
      "outputs": []
    },
    {
      "cell_type": "code",
      "source": [
        "for token in doc4:\n",
        "    print(token)"
      ],
      "metadata": {
        "id": "QuV3JHzMJyAV",
        "outputId": "2e1be7e0-d640-4375-d5ca-3276f81ebd6d",
        "colab": {
          "base_uri": "https://localhost:8080/"
        }
      },
      "execution_count": 100,
      "outputs": [
        {
          "output_type": "stream",
          "name": "stdout",
          "text": [
            "i\n",
            "drove\n",
            "100\n",
            "km\n",
            "today\n"
          ]
        }
      ]
    },
    {
      "cell_type": "code",
      "source": [],
      "metadata": {
        "id": "0XmJCh66Jx94"
      },
      "execution_count": null,
      "outputs": []
    },
    {
      "cell_type": "code",
      "source": [],
      "metadata": {
        "id": "a6tbJz-0Jx6i"
      },
      "execution_count": null,
      "outputs": []
    },
    {
      "cell_type": "code",
      "source": [],
      "metadata": {
        "id": "TT2rEpR3Jx06"
      },
      "execution_count": null,
      "outputs": []
    },
    {
      "cell_type": "code",
      "source": [],
      "metadata": {
        "id": "X39eLaT6ItE-"
      },
      "execution_count": null,
      "outputs": []
    },
    {
      "cell_type": "code",
      "source": [
        "corp='''\n",
        "My anme is Parth,I live in toronto and I like to visit CN TOWER\n",
        "\n",
        "'''"
      ],
      "metadata": {
        "id": "ah1h22eg-OMu"
      },
      "execution_count": 8,
      "outputs": []
    },
    {
      "cell_type": "code",
      "source": [
        "\n",
        "# PARAGRAPH --> SENTENCE"
      ],
      "metadata": {
        "id": "k1jbMtb599sZ"
      },
      "execution_count": null,
      "outputs": []
    },
    {
      "cell_type": "code",
      "source": [
        "from nltk.tokenize import sent_tokenize"
      ],
      "metadata": {
        "id": "l5Bcybyk-ZZ1"
      },
      "execution_count": 4,
      "outputs": []
    },
    {
      "cell_type": "code",
      "source": [
        "import nltk\n",
        "nltk.download('punkt')"
      ],
      "metadata": {
        "colab": {
          "base_uri": "https://localhost:8080/"
        },
        "id": "n5h1FBjb-n_H",
        "outputId": "d513de2d-29d2-4c99-aaf4-ad103183cb37"
      },
      "execution_count": 6,
      "outputs": [
        {
          "output_type": "stream",
          "name": "stderr",
          "text": [
            "[nltk_data] Downloading package punkt to /root/nltk_data...\n",
            "[nltk_data]   Unzipping tokenizers/punkt.zip.\n"
          ]
        },
        {
          "output_type": "execute_result",
          "data": {
            "text/plain": [
              "True"
            ]
          },
          "metadata": {},
          "execution_count": 6
        }
      ]
    },
    {
      "cell_type": "markdown",
      "source": [],
      "metadata": {
        "id": "UkGFy-j8-mGF"
      }
    },
    {
      "cell_type": "code",
      "source": [
        "sent_tokenize(corp)"
      ],
      "metadata": {
        "colab": {
          "base_uri": "https://localhost:8080/"
        },
        "id": "pj_Dkt-a-dBX",
        "outputId": "bc4893b7-aae2-406b-8412-6c6051097530"
      },
      "execution_count": 9,
      "outputs": [
        {
          "output_type": "execute_result",
          "data": {
            "text/plain": [
              "['\\nMy anme is Parth,I live in toronto!', 'and I like to visit CN TOWER']"
            ]
          },
          "metadata": {},
          "execution_count": 9
        }
      ]
    },
    {
      "cell_type": "code",
      "source": [
        "## check result with ! ,. ;"
      ],
      "metadata": {
        "id": "avNYxwAJ-gqQ"
      },
      "execution_count": 10,
      "outputs": []
    },
    {
      "cell_type": "code",
      "source": [
        "# paragraph --> words\n"
      ],
      "metadata": {
        "id": "_wddgC7g-_hs"
      },
      "execution_count": 12,
      "outputs": []
    },
    {
      "cell_type": "code",
      "source": [
        "from nltk.tokenize import word_tokenize"
      ],
      "metadata": {
        "id": "7Xk80kQx_BRW"
      },
      "execution_count": 13,
      "outputs": []
    },
    {
      "cell_type": "code",
      "source": [
        "word_tokenize(corp)"
      ],
      "metadata": {
        "colab": {
          "base_uri": "https://localhost:8080/"
        },
        "id": "zcp6OYBR_FPH",
        "outputId": "14b27231-c804-4740-9d0a-414be9540d68"
      },
      "execution_count": 15,
      "outputs": [
        {
          "output_type": "execute_result",
          "data": {
            "text/plain": [
              "['My',\n",
              " 'anme',\n",
              " 'is',\n",
              " 'Parth',\n",
              " ',',\n",
              " 'I',\n",
              " 'live',\n",
              " 'in',\n",
              " 'toronto',\n",
              " '!',\n",
              " 'and',\n",
              " 'I',\n",
              " 'like',\n",
              " 'to',\n",
              " 'visit',\n",
              " 'CN',\n",
              " 'TOWER']"
            ]
          },
          "metadata": {},
          "execution_count": 15
        }
      ]
    },
    {
      "cell_type": "code",
      "source": [
        "## more detailed tokenization\n"
      ],
      "metadata": {
        "id": "ac2NbwaT_JRG"
      },
      "execution_count": 16,
      "outputs": []
    },
    {
      "cell_type": "code",
      "source": [
        "from nltk.tokenize import wordpunct_tokenize"
      ],
      "metadata": {
        "id": "c6cwPpM3_bBW"
      },
      "execution_count": 17,
      "outputs": []
    },
    {
      "cell_type": "code",
      "source": [
        "wordpunct_tokenize(corp)"
      ],
      "metadata": {
        "colab": {
          "base_uri": "https://localhost:8080/"
        },
        "id": "iJiMsx1g_bds",
        "outputId": "f92a9491-351c-4f53-e33e-de7f61f86c58"
      },
      "execution_count": 18,
      "outputs": [
        {
          "output_type": "execute_result",
          "data": {
            "text/plain": [
              "['My',\n",
              " 'anme',\n",
              " 'is',\n",
              " 'Parth',\n",
              " ',',\n",
              " 'I',\n",
              " 'live',\n",
              " 'in',\n",
              " 'toronto',\n",
              " '!',\n",
              " 'and',\n",
              " 'I',\n",
              " 'like',\n",
              " 'to',\n",
              " 'visit',\n",
              " 'CN',\n",
              " 'TOWER']"
            ]
          },
          "metadata": {},
          "execution_count": 18
        }
      ]
    },
    {
      "cell_type": "code",
      "source": [
        "from nltk.tokenize import TreebankWordTokenizer"
      ],
      "metadata": {
        "id": "nrgRDCQC_d59"
      },
      "execution_count": 19,
      "outputs": []
    },
    {
      "cell_type": "code",
      "source": [
        "tokenizer=TreebankWordTokenizer()"
      ],
      "metadata": {
        "id": "1hqKLMTZ_hQC"
      },
      "execution_count": 20,
      "outputs": []
    },
    {
      "cell_type": "code",
      "source": [
        "tokenizer.tokenize(corp)"
      ],
      "metadata": {
        "colab": {
          "base_uri": "https://localhost:8080/"
        },
        "id": "tV3O-XT-_ipn",
        "outputId": "f307a7ba-8374-4cba-cab2-f987e84c2afe"
      },
      "execution_count": 22,
      "outputs": [
        {
          "output_type": "execute_result",
          "data": {
            "text/plain": [
              "['My',\n",
              " 'anme',\n",
              " 'is',\n",
              " 'Parth',\n",
              " ',',\n",
              " 'I',\n",
              " 'live',\n",
              " 'in',\n",
              " 'toronto',\n",
              " '!',\n",
              " 'and',\n",
              " 'I',\n",
              " 'like',\n",
              " 'to',\n",
              " 'visit',\n",
              " 'CN',\n",
              " 'TOWER']"
            ]
          },
          "metadata": {},
          "execution_count": 22
        }
      ]
    },
    {
      "cell_type": "code",
      "source": [
        "## Stemming Operation"
      ],
      "metadata": {
        "id": "QQjc2K67_j7v"
      },
      "execution_count": 23,
      "outputs": []
    },
    {
      "cell_type": "markdown",
      "source": [
        "1. Porter stemmer"
      ],
      "metadata": {
        "id": "wp_4TndDCzhF"
      }
    },
    {
      "cell_type": "code",
      "source": [
        "from nltk.stem import PorterStemmer"
      ],
      "metadata": {
        "id": "Eu9Rl5r1Cwe8"
      },
      "execution_count": 24,
      "outputs": []
    },
    {
      "cell_type": "code",
      "source": [
        "stemming=PorterStemmer()"
      ],
      "metadata": {
        "id": "YczmKNRiC3P7"
      },
      "execution_count": 25,
      "outputs": []
    },
    {
      "cell_type": "code",
      "source": [
        "words=[\"drink\",\"drank\",\"drunk\",\"canada\",\"canadian\",\"finally\",\"finalized\",\"Marks\",\"history\",\"congratulations\", \"understanding\"]"
      ],
      "metadata": {
        "id": "VuYAtAznC7Yn"
      },
      "execution_count": 40,
      "outputs": []
    },
    {
      "cell_type": "code",
      "source": [
        "for word in words:\n",
        "    print(word+\":     :\"+stemming.stem(word))"
      ],
      "metadata": {
        "colab": {
          "base_uri": "https://localhost:8080/"
        },
        "id": "WV-vNXHHDK91",
        "outputId": "2ad18f9a-e6fe-4678-8931-a83ffb598701"
      },
      "execution_count": 41,
      "outputs": [
        {
          "output_type": "stream",
          "name": "stdout",
          "text": [
            "drink:     :drink\n",
            "drank:     :drank\n",
            "drunk:     :drunk\n",
            "canada:     :canada\n",
            "canadian:     :canadian\n",
            "finally:     :final\n",
            "finalized:     :final\n",
            "Marks:     :mark\n",
            "history:     :histori\n",
            "congratulations:     :congratul\n",
            "understanding:     :understand\n"
          ]
        }
      ]
    },
    {
      "cell_type": "markdown",
      "source": [
        "2 Lancaster Stemmer"
      ],
      "metadata": {
        "id": "3S59e01ND5I9"
      }
    },
    {
      "cell_type": "code",
      "source": [
        "from nltk.stem import LancasterStemmer"
      ],
      "metadata": {
        "id": "APHwc1ULDPah"
      },
      "execution_count": 42,
      "outputs": []
    },
    {
      "cell_type": "code",
      "source": [
        "lancaster=LancasterStemmer()"
      ],
      "metadata": {
        "id": "vjbCnxsGD9Ar"
      },
      "execution_count": 43,
      "outputs": []
    },
    {
      "cell_type": "code",
      "source": [
        "for word in words:\n",
        "    print(word+\":     :\"+stemming.stem(word))"
      ],
      "metadata": {
        "id": "YM2B3dVWD-wG",
        "outputId": "7468eeda-b9a2-43d2-8775-627d549492df",
        "colab": {
          "base_uri": "https://localhost:8080/"
        }
      },
      "execution_count": 44,
      "outputs": [
        {
          "output_type": "stream",
          "name": "stdout",
          "text": [
            "drink:     :drink\n",
            "drank:     :drank\n",
            "drunk:     :drunk\n",
            "canada:     :canada\n",
            "canadian:     :canadian\n",
            "finally:     :final\n",
            "finalized:     :final\n",
            "Marks:     :mark\n",
            "history:     :histori\n",
            "congratulations:     :congratul\n",
            "understanding:     :understand\n"
          ]
        }
      ]
    },
    {
      "cell_type": "markdown",
      "source": [
        "3 Regex Stemmer"
      ],
      "metadata": {
        "id": "TrM1jZUPEGHE"
      }
    },
    {
      "cell_type": "code",
      "source": [
        "# utiltiy - remove suffix and prefix"
      ],
      "metadata": {
        "id": "9w4tyv0aD_2v"
      },
      "execution_count": 45,
      "outputs": []
    },
    {
      "cell_type": "code",
      "source": [
        "from nltk.stem import RegexpStemmer"
      ],
      "metadata": {
        "id": "NMUpkixVEPGU"
      },
      "execution_count": 46,
      "outputs": []
    },
    {
      "cell_type": "code",
      "source": [
        "reg_stemmer=RegexpStemmer('ing|s$|able$', min=4)"
      ],
      "metadata": {
        "id": "EuwzF7xdERDr"
      },
      "execution_count": 48,
      "outputs": []
    },
    {
      "cell_type": "code",
      "source": [
        "reg_stemmer.stem(\"ingplaying\")"
      ],
      "metadata": {
        "id": "xPYPUyqsETLX",
        "outputId": "da241592-6b75-4ec0-ecb4-4139b88a9701",
        "colab": {
          "base_uri": "https://localhost:8080/",
          "height": 35
        }
      },
      "execution_count": 49,
      "outputs": [
        {
          "output_type": "execute_result",
          "data": {
            "text/plain": [
              "'play'"
            ],
            "application/vnd.google.colaboratory.intrinsic+json": {
              "type": "string"
            }
          },
          "metadata": {},
          "execution_count": 49
        }
      ]
    },
    {
      "cell_type": "code",
      "source": [
        "reg_stemmer.stem(\"drinking\")"
      ],
      "metadata": {
        "id": "75daCz_1EYkY",
        "outputId": "5dd90d05-f61c-46e9-c782-f8606300d684",
        "colab": {
          "base_uri": "https://localhost:8080/",
          "height": 35
        }
      },
      "execution_count": 50,
      "outputs": [
        {
          "output_type": "execute_result",
          "data": {
            "text/plain": [
              "'drink'"
            ],
            "application/vnd.google.colaboratory.intrinsic+json": {
              "type": "string"
            }
          },
          "metadata": {},
          "execution_count": 50
        }
      ]
    },
    {
      "cell_type": "code",
      "source": [
        "reg_stemmer.stem(\"understandable\")"
      ],
      "metadata": {
        "id": "XRPvcCPVEaf6",
        "outputId": "7bfa7268-ccd4-401a-ef14-6308bba7ef39",
        "colab": {
          "base_uri": "https://localhost:8080/",
          "height": 35
        }
      },
      "execution_count": 51,
      "outputs": [
        {
          "output_type": "execute_result",
          "data": {
            "text/plain": [
              "'understand'"
            ],
            "application/vnd.google.colaboratory.intrinsic+json": {
              "type": "string"
            }
          },
          "metadata": {},
          "execution_count": 51
        }
      ]
    },
    {
      "cell_type": "code",
      "source": [
        "reg_stemmer.stem(\"fruits\")"
      ],
      "metadata": {
        "id": "why6FznXEdjW",
        "outputId": "106450b7-4ece-437f-d8ac-889f102c6739",
        "colab": {
          "base_uri": "https://localhost:8080/",
          "height": 35
        }
      },
      "execution_count": 52,
      "outputs": [
        {
          "output_type": "execute_result",
          "data": {
            "text/plain": [
              "'fruit'"
            ],
            "application/vnd.google.colaboratory.intrinsic+json": {
              "type": "string"
            }
          },
          "metadata": {},
          "execution_count": 52
        }
      ]
    },
    {
      "cell_type": "markdown",
      "source": [
        "4 Snowball Stemmer"
      ],
      "metadata": {
        "id": "OPqSZ-GKFiwT"
      }
    },
    {
      "cell_type": "code",
      "source": [
        "from nltk.stem import SnowballStemmer"
      ],
      "metadata": {
        "id": "BJuP6rzJEkjN"
      },
      "execution_count": 53,
      "outputs": []
    },
    {
      "cell_type": "code",
      "source": [
        "## better output than porter stemmer"
      ],
      "metadata": {
        "id": "FEssBPQ1Fpsy"
      },
      "execution_count": 55,
      "outputs": []
    },
    {
      "cell_type": "code",
      "source": [
        "snowballstemmer=SnowballStemmer('english',ignore_stopwords=False)"
      ],
      "metadata": {
        "id": "oONCLt0lFsXG"
      },
      "execution_count": 56,
      "outputs": []
    },
    {
      "cell_type": "code",
      "source": [
        "for word in words:\n",
        "    print(word+\"---->\"+snowballstemmer.stem(word))"
      ],
      "metadata": {
        "id": "URBSskOTFx7z",
        "outputId": "31c6bdbf-5264-4ff0-fb27-64a6247c3907",
        "colab": {
          "base_uri": "https://localhost:8080/"
        }
      },
      "execution_count": 57,
      "outputs": [
        {
          "output_type": "stream",
          "name": "stdout",
          "text": [
            "drink---->drink\n",
            "drank---->drank\n",
            "drunk---->drunk\n",
            "canada---->canada\n",
            "canadian---->canadian\n",
            "finally---->final\n",
            "finalized---->final\n",
            "Marks---->mark\n",
            "history---->histori\n",
            "congratulations---->congratul\n",
            "understanding---->understand\n"
          ]
        }
      ]
    },
    {
      "cell_type": "code",
      "source": [
        "stemming.stem(\"happily\"),stemming.stem(\"foolishly\")"
      ],
      "metadata": {
        "id": "kJF7ydngFynY",
        "outputId": "3f63d684-9e03-48bb-d32b-c37d47313e5e",
        "colab": {
          "base_uri": "https://localhost:8080/"
        }
      },
      "execution_count": 60,
      "outputs": [
        {
          "output_type": "execute_result",
          "data": {
            "text/plain": [
              "('happili', 'foolishli')"
            ]
          },
          "metadata": {},
          "execution_count": 60
        }
      ]
    },
    {
      "cell_type": "code",
      "source": [
        "snowballstemmer.stem(\"happily\"),stemming.stem(\"foolishly\")"
      ],
      "metadata": {
        "id": "zJ65ZUCGF1SQ",
        "outputId": "30c92f0b-f086-4ac8-b696-c5b38a7d3c79",
        "colab": {
          "base_uri": "https://localhost:8080/"
        }
      },
      "execution_count": 61,
      "outputs": [
        {
          "output_type": "execute_result",
          "data": {
            "text/plain": [
              "('happili', 'foolishli')"
            ]
          },
          "metadata": {},
          "execution_count": 61
        }
      ]
    },
    {
      "cell_type": "code",
      "source": [
        "stemming.stem(\"fairly\")"
      ],
      "metadata": {
        "id": "yhG45gnsF7qp",
        "outputId": "272b5abf-4174-4820-ee21-2e60f56411bf",
        "colab": {
          "base_uri": "https://localhost:8080/",
          "height": 35
        }
      },
      "execution_count": 62,
      "outputs": [
        {
          "output_type": "execute_result",
          "data": {
            "text/plain": [
              "'fairli'"
            ],
            "application/vnd.google.colaboratory.intrinsic+json": {
              "type": "string"
            }
          },
          "metadata": {},
          "execution_count": 62
        }
      ]
    },
    {
      "cell_type": "code",
      "source": [
        "snowballstemmer.stem(\"fairly\")"
      ],
      "metadata": {
        "id": "Dc7GPgmcGTkK",
        "outputId": "187eca9c-572c-4112-862d-8e5003898015",
        "colab": {
          "base_uri": "https://localhost:8080/",
          "height": 35
        }
      },
      "execution_count": 63,
      "outputs": [
        {
          "output_type": "execute_result",
          "data": {
            "text/plain": [
              "'fair'"
            ],
            "application/vnd.google.colaboratory.intrinsic+json": {
              "type": "string"
            }
          },
          "metadata": {},
          "execution_count": 63
        }
      ]
    },
    {
      "cell_type": "code",
      "source": [
        "# Lemmatization"
      ],
      "metadata": {
        "id": "Tp4AHUZDGXMg"
      },
      "execution_count": 64,
      "outputs": []
    },
    {
      "cell_type": "code",
      "source": [
        "import nltk\n",
        "from nltk.stem import WordNetLemmatizer\n",
        "lemmatizer = WordNetLemmatizer()"
      ],
      "metadata": {
        "id": "0pkq-e8HGgjg"
      },
      "execution_count": 65,
      "outputs": []
    },
    {
      "cell_type": "code",
      "source": [
        "import nltk\n",
        "nltk.download('wordnet')"
      ],
      "metadata": {
        "id": "xNNXDXlXHnvk",
        "outputId": "23dc6491-e28d-4b7b-93a7-501cf26e71c9",
        "colab": {
          "base_uri": "https://localhost:8080/"
        }
      },
      "execution_count": 67,
      "outputs": [
        {
          "output_type": "stream",
          "name": "stderr",
          "text": [
            "[nltk_data] Downloading package wordnet to /root/nltk_data...\n"
          ]
        },
        {
          "output_type": "execute_result",
          "data": {
            "text/plain": [
              "True"
            ]
          },
          "metadata": {},
          "execution_count": 67
        }
      ]
    },
    {
      "cell_type": "code",
      "source": [
        "for word in words:\n",
        "    print(word+\"---->\"+lemmatizer.lemmatize(word))"
      ],
      "metadata": {
        "id": "bhcsKUXfHhIf",
        "outputId": "5db9ef08-e61d-4bcc-a83f-0d37f9c9d57b",
        "colab": {
          "base_uri": "https://localhost:8080/"
        }
      },
      "execution_count": 70,
      "outputs": [
        {
          "output_type": "stream",
          "name": "stdout",
          "text": [
            "drink---->drink\n",
            "drank---->drank\n",
            "drunk---->drunk\n",
            "canada---->canada\n",
            "canadian---->canadian\n",
            "finally---->finally\n",
            "finalized---->finalized\n",
            "Marks---->Marks\n",
            "history---->history\n",
            "congratulations---->congratulation\n",
            "understanding---->understanding\n"
          ]
        }
      ]
    },
    {
      "cell_type": "code",
      "source": [
        "## Pos tag operation to find adverb, noun or anything"
      ],
      "metadata": {
        "id": "pwLvi2GyHlBu"
      },
      "execution_count": 71,
      "outputs": []
    },
    {
      "cell_type": "code",
      "source": [
        "'''\n",
        "POS- Noun-n\n",
        "verb-v\n",
        "adjective-a\n",
        "adverb-r\n",
        "'''\n",
        "for word in words:\n",
        "    print(word+\"---->\"+lemmatizer.lemmatize(word,pos='v'))"
      ],
      "metadata": {
        "id": "W1rP0UJFH3b2",
        "outputId": "9a957b1f-f55f-4f89-a4a4-62384df2e42d",
        "colab": {
          "base_uri": "https://localhost:8080/"
        }
      },
      "execution_count": 74,
      "outputs": [
        {
          "output_type": "stream",
          "name": "stdout",
          "text": [
            "drink---->drink\n",
            "drank---->drink\n",
            "drunk---->drink\n",
            "canada---->canada\n",
            "canadian---->canadian\n",
            "finally---->finally\n",
            "finalized---->finalize\n",
            "Marks---->Marks\n",
            "history---->history\n",
            "congratulations---->congratulations\n",
            "understanding---->understand\n"
          ]
        }
      ]
    },
    {
      "cell_type": "code",
      "source": [],
      "metadata": {
        "id": "RIZ8TgwzH5rD"
      },
      "execution_count": null,
      "outputs": []
    }
  ]
}