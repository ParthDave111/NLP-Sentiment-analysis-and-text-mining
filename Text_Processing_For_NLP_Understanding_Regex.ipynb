{
  "cells": [
    {
      "cell_type": "markdown",
      "metadata": {
        "id": "view-in-github",
        "colab_type": "text"
      },
      "source": [
        "<a href=\"https://colab.research.google.com/github/ParthDave111/NLP-Sentiment-analysis-and-text-mining/blob/main/Text_Processing_For_NLP_Understanding_Regex.ipynb\" target=\"_parent\"><img src=\"https://colab.research.google.com/assets/colab-badge.svg\" alt=\"Open In Colab\"/></a>"
      ]
    },
    {
      "cell_type": "markdown",
      "metadata": {
        "id": "H96HjAWcr7xZ"
      },
      "source": [
        "# Import the 're' Module"
      ]
    },
    {
      "cell_type": "code",
      "execution_count": 1,
      "metadata": {
        "id": "uXSQVnJWr7xc"
      },
      "outputs": [],
      "source": [
        "import re"
      ]
    },
    {
      "cell_type": "markdown",
      "metadata": {
        "id": "2gtvP0TYr7xd"
      },
      "source": [
        "# Sample Text"
      ]
    },
    {
      "cell_type": "code",
      "execution_count": 2,
      "metadata": {
        "id": "gflVGcSSr7xd"
      },
      "outputs": [],
      "source": [
        "text = \"The quick brown fox jumps over the lazy dog.\""
      ]
    },
    {
      "cell_type": "markdown",
      "metadata": {
        "id": "J3kH8R77r7xe"
      },
      "source": [
        "# Basic Regex Operations"
      ]
    },
    {
      "cell_type": "markdown",
      "metadata": {
        "id": "Q-ToEoGyr7xe"
      },
      "source": [
        "Regex allows you to perform various operations on text, such as searching for patterns, replacing text, and splitting strings."
      ]
    },
    {
      "cell_type": "markdown",
      "metadata": {
        "id": "MxH3Z-i9r7xe"
      },
      "source": [
        "### Searching for a Pattern"
      ]
    },
    {
      "cell_type": "code",
      "execution_count": 3,
      "metadata": {
        "id": "nkVcXkpjr7xf",
        "outputId": "9c73e304-0c56-40ad-8b7f-2b3eef11cd07",
        "colab": {
          "base_uri": "https://localhost:8080/"
        }
      },
      "outputs": [
        {
          "output_type": "stream",
          "name": "stdout",
          "text": [
            "Matches: ['fox']\n"
          ]
        }
      ],
      "source": [
        "pattern = r\"fox\"\n",
        "matches = re.findall(pattern, text)\n",
        "print(\"Matches:\", matches)"
      ]
    },
    {
      "cell_type": "markdown",
      "metadata": {
        "id": "cHHT2AVar7xg"
      },
      "source": [
        "### Replacing Text"
      ]
    },
    {
      "cell_type": "code",
      "execution_count": 4,
      "metadata": {
        "id": "21AE0vrPr7xg",
        "outputId": "310091f4-13b2-4418-fe8c-2ce6652388a2",
        "colab": {
          "base_uri": "https://localhost:8080/"
        }
      },
      "outputs": [
        {
          "output_type": "stream",
          "name": "stdout",
          "text": [
            "New Text: The quick brown cat jumps over the lazy dog.\n"
          ]
        }
      ],
      "source": [
        "pattern = r\"fox\"\n",
        "replacement = \"cat\"\n",
        "new_text = re.sub(pattern, replacement, text)\n",
        "print(\"New Text:\", new_text)"
      ]
    },
    {
      "cell_type": "markdown",
      "metadata": {
        "id": "vBG2MEamr7xh"
      },
      "source": [
        "### Splitting Strings"
      ]
    },
    {
      "cell_type": "code",
      "execution_count": 5,
      "metadata": {
        "id": "JJe8nj19r7xh",
        "outputId": "bfc2a077-4e04-4928-c5a9-c760edaa6727",
        "colab": {
          "base_uri": "https://localhost:8080/"
        }
      },
      "outputs": [
        {
          "output_type": "stream",
          "name": "stdout",
          "text": [
            "Split Text: ['The', 'quick', 'brown', 'fox', 'jumps', 'over', 'the', 'lazy', 'dog.']\n"
          ]
        }
      ],
      "source": [
        "pattern = r\"\\s\"  # Split on spaces\n",
        "split_text = re.split(pattern, text)\n",
        "print(\"Split Text:\", split_text)"
      ]
    },
    {
      "cell_type": "markdown",
      "metadata": {
        "id": "5cuc7KhCr7xi"
      },
      "source": [
        "# Character Classes and Quantifiers"
      ]
    },
    {
      "cell_type": "markdown",
      "metadata": {
        "id": "16UpN7Ipr7xi"
      },
      "source": [
        "### Character Classes"
      ]
    },
    {
      "cell_type": "code",
      "execution_count": 6,
      "metadata": {
        "id": "TQ2ZI8wrr7xi",
        "outputId": "a3459aa5-1dca-4f5c-d6e9-3206e90aa42d",
        "colab": {
          "base_uri": "https://localhost:8080/"
        }
      },
      "outputs": [
        {
          "output_type": "stream",
          "name": "stdout",
          "text": [
            "Vowels: ['e', 'u', 'i', 'o', 'o', 'u', 'o', 'e', 'e', 'a', 'o']\n"
          ]
        }
      ],
      "source": [
        "pattern = r\"[aeiou]\"\n",
        "vowels = re.findall(pattern, text)\n",
        "print(\"Vowels:\", vowels)"
      ]
    },
    {
      "cell_type": "markdown",
      "metadata": {
        "id": "-MsxeCFtr7xj"
      },
      "source": [
        "### Quantifiers"
      ]
    },
    {
      "cell_type": "code",
      "execution_count": 7,
      "metadata": {
        "id": "gje6AeS2r7xj",
        "outputId": "08014925-9fe5-4dc6-944d-da32161a66db",
        "colab": {
          "base_uri": "https://localhost:8080/"
        }
      },
      "outputs": [
        {
          "output_type": "stream",
          "name": "stdout",
          "text": [
            "Matches: []\n"
          ]
        }
      ],
      "source": [
        "pattern = r\"o{2}\"  # Matches two consecutive 'o' characters\n",
        "matches = re.findall(pattern, text)\n",
        "print(\"Matches:\", matches)"
      ]
    },
    {
      "cell_type": "markdown",
      "metadata": {
        "id": "CE7ejyE6r7xj"
      },
      "source": [
        "# Metacharacters and Anchors"
      ]
    },
    {
      "cell_type": "markdown",
      "metadata": {
        "id": "2b6TRR7Or7xj"
      },
      "source": [
        "### Metacharacters"
      ]
    },
    {
      "cell_type": "code",
      "execution_count": 8,
      "metadata": {
        "id": "bVcUW4bir7xk",
        "outputId": "3ee4d920-6baa-4862-e312-7b64888adaa1",
        "colab": {
          "base_uri": "https://localhost:8080/"
        }
      },
      "outputs": [
        {
          "output_type": "stream",
          "name": "stdout",
          "text": [
            "Matches: ['The', 'fox', 'the', 'dog']\n"
          ]
        }
      ],
      "source": [
        "pattern = r\"\\b\\w{3}\\b\"  # Matches three-letter words\n",
        "matches = re.findall(pattern, text)\n",
        "print(\"Matches:\", matches)"
      ]
    },
    {
      "cell_type": "markdown",
      "metadata": {
        "id": "5rpmM1_Fr7xk"
      },
      "source": [
        "### Anchors"
      ]
    },
    {
      "cell_type": "code",
      "execution_count": 9,
      "metadata": {
        "id": "N4EuR_Zpr7xk",
        "outputId": "5af6b48e-2ca5-4448-92d0-dbfb889d45d0",
        "colab": {
          "base_uri": "https://localhost:8080/"
        }
      },
      "outputs": [
        {
          "output_type": "stream",
          "name": "stdout",
          "text": [
            "Matches: ['The']\n"
          ]
        }
      ],
      "source": [
        "pattern = r\"^The\"  # Matches 'The' at the beginning of the string\n",
        "matches = re.findall(pattern, text)\n",
        "print(\"Matches:\", matches)"
      ]
    },
    {
      "cell_type": "markdown",
      "metadata": {
        "id": "ph3hDHt4r7xl"
      },
      "source": [
        "# Grouping and Capturing"
      ]
    },
    {
      "cell_type": "code",
      "execution_count": 10,
      "metadata": {
        "id": "TG1HQa2-r7xl",
        "outputId": "c481fa16-9d65-4d4e-cdc0-07e134fd3f84",
        "colab": {
          "base_uri": "https://localhost:8080/"
        }
      },
      "outputs": [
        {
          "output_type": "stream",
          "name": "stdout",
          "text": [
            "Matches: [('The', 'quick'), ('brown', 'fox'), ('jumps', 'over'), ('the', 'lazy')]\n"
          ]
        }
      ],
      "source": [
        "pattern = r\"(\\w+)\\s(\\w+)\"  # Matches two consecutive words\n",
        "matches = re.findall(pattern, text)\n",
        "print(\"Matches:\", matches)"
      ]
    },
    {
      "cell_type": "markdown",
      "metadata": {
        "id": "Atky8T0Cr7xl"
      },
      "source": [
        "# Using Regex for Tokenization"
      ]
    },
    {
      "cell_type": "markdown",
      "metadata": {
        "id": "o_XX7xWLr7xl"
      },
      "source": [
        "Regex is also useful for tokenizing text into words or sentences."
      ]
    },
    {
      "cell_type": "markdown",
      "metadata": {
        "id": "hMwKs3zVr7xm"
      },
      "source": [
        "### Tokenizing into Words"
      ]
    },
    {
      "cell_type": "code",
      "execution_count": 11,
      "metadata": {
        "id": "xbVU0RyFr7xm",
        "outputId": "3a1cef16-5d82-4eed-ed6f-563dc58367c2",
        "colab": {
          "base_uri": "https://localhost:8080/"
        }
      },
      "outputs": [
        {
          "output_type": "stream",
          "name": "stdout",
          "text": [
            "Words: ['The', 'quick', 'brown', 'fox', 'jumps', 'over', 'the', 'lazy', 'dog.']\n"
          ]
        }
      ],
      "source": [
        "pattern = r\"\\s\"  # Split on spaces\n",
        "words = re.split(pattern, text)\n",
        "print(\"Words:\", words)"
      ]
    },
    {
      "cell_type": "markdown",
      "metadata": {
        "id": "1aEt1QlKr7xm"
      },
      "source": [
        "### Tokenizing into Sentences"
      ]
    },
    {
      "cell_type": "code",
      "execution_count": 12,
      "metadata": {
        "id": "s4zIK8Cqr7xm",
        "outputId": "062c6e55-4613-426f-88c1-b0d52741e44c",
        "colab": {
          "base_uri": "https://localhost:8080/"
        }
      },
      "outputs": [
        {
          "output_type": "stream",
          "name": "stdout",
          "text": [
            "Sentences: ['The quick brown fox jumps over the lazy dog.']\n"
          ]
        }
      ],
      "source": [
        "pattern = r\"\\.\\s\"  # Split after periods followed by a space\n",
        "sentences = re.split(pattern, text)\n",
        "print(\"Sentences:\", sentences)"
      ]
    },
    {
      "cell_type": "code",
      "execution_count": null,
      "metadata": {
        "id": "UaHRtKo-r7xn"
      },
      "outputs": [],
      "source": []
    }
  ],
  "metadata": {
    "kernelspec": {
      "display_name": "Python 3",
      "language": "python",
      "name": "python3"
    },
    "language_info": {
      "codemirror_mode": {
        "name": "ipython",
        "version": 3
      },
      "file_extension": ".py",
      "mimetype": "text/x-python",
      "name": "python",
      "nbconvert_exporter": "python",
      "pygments_lexer": "ipython3",
      "version": "3.8.5"
    },
    "colab": {
      "provenance": [],
      "include_colab_link": true
    }
  },
  "nbformat": 4,
  "nbformat_minor": 0
}