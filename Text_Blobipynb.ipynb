{
  "nbformat": 4,
  "nbformat_minor": 0,
  "metadata": {
    "colab": {
      "provenance": []
    },
    "kernelspec": {
      "name": "python3",
      "display_name": "Python 3"
    },
    "language_info": {
      "name": "python"
    }
  },
  "cells": [
    {
      "cell_type": "code",
      "execution_count": null,
      "metadata": {
        "id": "G8NnMNatCVEG"
      },
      "outputs": [],
      "source": []
    },
    {
      "cell_type": "markdown",
      "source": [
        "https://textblob.readthedocs.io/en/dev/"
      ],
      "metadata": {
        "id": "zZHYLnk3CYY-"
      }
    },
    {
      "cell_type": "markdown",
      "source": [
        "#Features\n",
        "\n",
        "\n",
        "Noun phrase extraction\n",
        " Part-of-speech tagging\n",
        "Sentiment analysis\n",
        "Classification (Naive Bayes, Decision Tree)\n",
        "Tokenization (splitting text into words and sentences)\n",
        "Word and phrase frequencies\n",
        "Parsing\n",
        "n-grams\n",
        "Word inflection (pluralization and singularization) and lemmatization\n",
        "Spelling correction\n",
        "Add new models or languages through extensions\n",
        "WordNet integration"
      ],
      "metadata": {
        "id": "6pAal2zpCgZH"
      }
    },
    {
      "cell_type": "code",
      "source": [
        "pip install -U textblob"
      ],
      "metadata": {
        "colab": {
          "base_uri": "https://localhost:8080/"
        },
        "id": "Iieo5h2-CgJ1",
        "outputId": "98c6fefe-e0b1-4e7c-9ef4-7ae9fc840abf"
      },
      "execution_count": 1,
      "outputs": [
        {
          "output_type": "stream",
          "name": "stdout",
          "text": [
            "Requirement already satisfied: textblob in /usr/local/lib/python3.10/dist-packages (0.17.1)\n",
            "Requirement already satisfied: nltk>=3.1 in /usr/local/lib/python3.10/dist-packages (from textblob) (3.8.1)\n",
            "Requirement already satisfied: click in /usr/local/lib/python3.10/dist-packages (from nltk>=3.1->textblob) (8.1.7)\n",
            "Requirement already satisfied: joblib in /usr/local/lib/python3.10/dist-packages (from nltk>=3.1->textblob) (1.3.2)\n",
            "Requirement already satisfied: regex>=2021.8.3 in /usr/local/lib/python3.10/dist-packages (from nltk>=3.1->textblob) (2023.6.3)\n",
            "Requirement already satisfied: tqdm in /usr/local/lib/python3.10/dist-packages (from nltk>=3.1->textblob) (4.66.1)\n"
          ]
        }
      ]
    },
    {
      "cell_type": "code",
      "source": [
        "from textblob import TextBlob"
      ],
      "metadata": {
        "id": "CFtRmFh5Cdaq"
      },
      "execution_count": 3,
      "outputs": []
    },
    {
      "cell_type": "code",
      "source": [
        "b = TextBlob(\"I havv goood speling!\")"
      ],
      "metadata": {
        "id": "FpLkTogWI-H5"
      },
      "execution_count": 4,
      "outputs": []
    },
    {
      "cell_type": "code",
      "source": [
        "\n",
        "\n",
        "print(b.correct())"
      ],
      "metadata": {
        "colab": {
          "base_uri": "https://localhost:8080/"
        },
        "id": "UEd03ifcJFRN",
        "outputId": "45efc28d-19c2-4608-ee86-9fadcef985c0"
      },
      "execution_count": 5,
      "outputs": [
        {
          "output_type": "stream",
          "name": "stdout",
          "text": [
            "I have good spelling!\n"
          ]
        }
      ]
    },
    {
      "cell_type": "code",
      "source": [
        "b = TextBlob(\"frequenci\")"
      ],
      "metadata": {
        "id": "sskeHXPNJLjy"
      },
      "execution_count": 8,
      "outputs": []
    },
    {
      "cell_type": "code",
      "source": [
        "print(b.correct())"
      ],
      "metadata": {
        "colab": {
          "base_uri": "https://localhost:8080/"
        },
        "id": "82Wbgne2JUAl",
        "outputId": "7b174f23-135f-48df-d5b6-5f779be73729"
      },
      "execution_count": 7,
      "outputs": [
        {
          "output_type": "stream",
          "name": "stdout",
          "text": [
            "frequency\n"
          ]
        }
      ]
    },
    {
      "cell_type": "code",
      "source": [],
      "metadata": {
        "id": "moYYNSc9JVow"
      },
      "execution_count": null,
      "outputs": []
    }
  ]
}