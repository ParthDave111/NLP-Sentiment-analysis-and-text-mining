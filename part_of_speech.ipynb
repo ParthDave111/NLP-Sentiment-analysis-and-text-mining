{
  "nbformat": 4,
  "nbformat_minor": 0,
  "metadata": {
    "colab": {
      "provenance": []
    },
    "kernelspec": {
      "name": "python3",
      "display_name": "Python 3"
    },
    "language_info": {
      "name": "python"
    }
  },
  "cells": [
    {
      "cell_type": "code",
      "execution_count": 1,
      "metadata": {
        "id": "_qbtr4XqJMPf"
      },
      "outputs": [],
      "source": [
        "\n",
        "import spacy"
      ]
    },
    {
      "cell_type": "code",
      "source": [
        "# POS tags"
      ],
      "metadata": {
        "id": "NLv1GfDJJM-B"
      },
      "execution_count": 3,
      "outputs": []
    },
    {
      "cell_type": "code",
      "source": [
        "nlp = spacy.load(\"en_core_web_sm\")\n",
        "doc = nlp(\"Elon flew to mars yesterday. He carried biryani masala with him\")\n",
        "\n",
        "for token in doc:\n",
        "    print(token,\" | \", token.pos_, \" | \", spacy.explain(token.pos_))"
      ],
      "metadata": {
        "colab": {
          "base_uri": "https://localhost:8080/"
        },
        "id": "aM6-Q8AJJPpg",
        "outputId": "9623e0f7-d4f8-4896-bec4-2c1a1062a04c"
      },
      "execution_count": 4,
      "outputs": [
        {
          "output_type": "stream",
          "name": "stdout",
          "text": [
            "Elon  |  PROPN  |  proper noun\n",
            "flew  |  VERB  |  verb\n",
            "to  |  ADP  |  adposition\n",
            "mars  |  NOUN  |  noun\n",
            "yesterday  |  NOUN  |  noun\n",
            ".  |  PUNCT  |  punctuation\n",
            "He  |  PRON  |  pronoun\n",
            "carried  |  VERB  |  verb\n",
            "biryani  |  ADJ  |  adjective\n",
            "masala  |  NOUN  |  noun\n",
            "with  |  ADP  |  adposition\n",
            "him  |  PRON  |  pronoun\n"
          ]
        }
      ]
    },
    {
      "cell_type": "code",
      "source": [
        "# ref : https://v2.spacy.io/api/annotation"
      ],
      "metadata": {
        "id": "tPA-AcJnJT7z"
      },
      "execution_count": 5,
      "outputs": []
    },
    {
      "cell_type": "code",
      "source": [
        "nlp.pipeline"
      ],
      "metadata": {
        "colab": {
          "base_uri": "https://localhost:8080/"
        },
        "id": "XGIkkIqcJlLU",
        "outputId": "44550706-cf47-498b-a931-506e6a8d6387"
      },
      "execution_count": 6,
      "outputs": [
        {
          "output_type": "execute_result",
          "data": {
            "text/plain": [
              "[('tok2vec', <spacy.pipeline.tok2vec.Tok2Vec at 0x7df1bc3d4460>),\n",
              " ('tagger', <spacy.pipeline.tagger.Tagger at 0x7df08814f520>),\n",
              " ('parser', <spacy.pipeline.dep_parser.DependencyParser at 0x7df087fb59a0>),\n",
              " ('attribute_ruler',\n",
              "  <spacy.pipeline.attributeruler.AttributeRuler at 0x7df087dec7c0>),\n",
              " ('lemmatizer',\n",
              "  <spacy.lang.en.lemmatizer.EnglishLemmatizer at 0x7df087f022c0>),\n",
              " ('ner', <spacy.pipeline.ner.EntityRecognizer at 0x7df087fb5af0>)]"
            ]
          },
          "metadata": {},
          "execution_count": 6
        }
      ]
    },
    {
      "cell_type": "code",
      "source": [
        "nlp.pipe_names"
      ],
      "metadata": {
        "colab": {
          "base_uri": "https://localhost:8080/"
        },
        "id": "ewOgC6iYJsQY",
        "outputId": "924a541d-2cff-4d9d-e10f-aa642fb9f504"
      },
      "execution_count": 7,
      "outputs": [
        {
          "output_type": "execute_result",
          "data": {
            "text/plain": [
              "['tok2vec', 'tagger', 'parser', 'attribute_ruler', 'lemmatizer', 'ner']"
            ]
          },
          "metadata": {},
          "execution_count": 7
        }
      ]
    },
    {
      "cell_type": "code",
      "source": [
        "\n",
        "doc = nlp(\"Wow! Dr. Strange made 265 million $ on the very first day\")\n",
        "\n",
        "for token in doc:\n",
        "    print(token,\" | \", token.pos_, \" | \", spacy.explain(token.pos_))"
      ],
      "metadata": {
        "colab": {
          "base_uri": "https://localhost:8080/"
        },
        "id": "GOhi35pyJvaL",
        "outputId": "320804fa-2f48-433d-ec59-cc07ca006c0e"
      },
      "execution_count": 8,
      "outputs": [
        {
          "output_type": "stream",
          "name": "stdout",
          "text": [
            "Wow  |  INTJ  |  interjection\n",
            "!  |  PUNCT  |  punctuation\n",
            "Dr.  |  PROPN  |  proper noun\n",
            "Strange  |  PROPN  |  proper noun\n",
            "made  |  VERB  |  verb\n",
            "265  |  NUM  |  numeral\n",
            "million  |  NUM  |  numeral\n",
            "$  |  NUM  |  numeral\n",
            "on  |  ADP  |  adposition\n",
            "the  |  DET  |  determiner\n",
            "very  |  ADV  |  adverb\n",
            "first  |  ADJ  |  adjective\n",
            "day  |  NOUN  |  noun\n"
          ]
        }
      ]
    },
    {
      "cell_type": "code",
      "source": [
        "## Tags"
      ],
      "metadata": {
        "id": "WMdZNtK9J159"
      },
      "execution_count": 9,
      "outputs": []
    },
    {
      "cell_type": "code",
      "source": [
        "doc = nlp(\"Wow! Dr. Strange made 265 million $ on the very first day\")\n",
        "\n",
        "for token in doc:\n",
        "    print(token,\" | \", token.pos_, \" | \", spacy.explain(token.pos_), \" | \", token.tag_, \" | \", spacy.explain(token.tag_))"
      ],
      "metadata": {
        "colab": {
          "base_uri": "https://localhost:8080/"
        },
        "id": "E1zpFPKWKFv1",
        "outputId": "bca53ea4-0df4-4478-af9a-230558d757f6"
      },
      "execution_count": 10,
      "outputs": [
        {
          "output_type": "stream",
          "name": "stdout",
          "text": [
            "Wow  |  INTJ  |  interjection  |  UH  |  interjection\n",
            "!  |  PUNCT  |  punctuation  |  .  |  punctuation mark, sentence closer\n",
            "Dr.  |  PROPN  |  proper noun  |  NNP  |  noun, proper singular\n",
            "Strange  |  PROPN  |  proper noun  |  NNP  |  noun, proper singular\n",
            "made  |  VERB  |  verb  |  VBD  |  verb, past tense\n",
            "265  |  NUM  |  numeral  |  CD  |  cardinal number\n",
            "million  |  NUM  |  numeral  |  CD  |  cardinal number\n",
            "$  |  NUM  |  numeral  |  CD  |  cardinal number\n",
            "on  |  ADP  |  adposition  |  IN  |  conjunction, subordinating or preposition\n",
            "the  |  DET  |  determiner  |  DT  |  determiner\n",
            "very  |  ADV  |  adverb  |  RB  |  adverb\n",
            "first  |  ADJ  |  adjective  |  JJ  |  adjective (English), other noun-modifier (Chinese)\n",
            "day  |  NOUN  |  noun  |  NN  |  noun, singular or mass\n"
          ]
        }
      ]
    },
    {
      "cell_type": "code",
      "source": [
        "##In below sentences Spacy figures out the past vs present tense for quit"
      ],
      "metadata": {
        "id": "XBHJ1zOHKIEm"
      },
      "execution_count": 11,
      "outputs": []
    },
    {
      "cell_type": "code",
      "source": [
        "\n",
        "doc = nlp(\"He quits the job\")\n",
        "\n",
        "print(doc[1].text, \"|\", doc[1].tag_, \"|\", spacy.explain(doc[1].tag_))"
      ],
      "metadata": {
        "colab": {
          "base_uri": "https://localhost:8080/"
        },
        "id": "JN27OQOxKP9n",
        "outputId": "8322cafa-3746-4488-d345-af450bbc5125"
      },
      "execution_count": 12,
      "outputs": [
        {
          "output_type": "stream",
          "name": "stdout",
          "text": [
            "quits | VBZ | verb, 3rd person singular present\n"
          ]
        }
      ]
    },
    {
      "cell_type": "code",
      "source": [
        "doc = nlp(\"he quit the job\")\n",
        "\n",
        "print(doc[1].text, \"|\", doc[1].tag_, \"|\", spacy.explain(doc[1].tag_))"
      ],
      "metadata": {
        "colab": {
          "base_uri": "https://localhost:8080/"
        },
        "id": "AtaV1IQqKTYa",
        "outputId": "048bd6e4-aba4-4961-f1c7-b940ee1e0422"
      },
      "execution_count": 13,
      "outputs": [
        {
          "output_type": "stream",
          "name": "stdout",
          "text": [
            "quit | VBD | verb, past tense\n"
          ]
        }
      ]
    },
    {
      "cell_type": "code",
      "source": [
        "## Removing all SPACE, PUNCT and X token from text"
      ],
      "metadata": {
        "id": "wXI4LR5ZKWcq"
      },
      "execution_count": 14,
      "outputs": []
    },
    {
      "cell_type": "code",
      "source": [
        "earnings_text=\"\"\"Microsoft Corp. today announced the following results for the quarter ended December 31, 2021, as compared to the corresponding period of last fiscal year:\n",
        "\n",
        "·         Revenue was $51.7 billion and increased 20%\n",
        "·         Operating income was $22.2 billion and increased 24%\n",
        "·         Net income was $18.8 billion and increased 21%\n",
        "·         Diluted earnings per share was $2.48 and increased 22%\n",
        "“Digital technology is the most malleable resource at the world’s disposal to overcome constraints and reimagine everyday work and life,” said Satya Nadella, chairman and chief executive officer of Microsoft. “As tech as a percentage of global GDP continues to increase, we are innovating and investing across diverse and growing markets, with a common underlying technology stack and an operating model that reinforces a common strategy, culture, and sense of purpose.”\n",
        "“Solid commercial execution, represented by strong bookings growth driven by long-term Azure commitments, increased Microsoft Cloud revenue to $22.1 billion, up 32% year over year” said Amy Hood, executive vice president and chief financial officer of Microsoft.\"\"\"\n",
        "\n",
        "doc = nlp(earnings_text)\n",
        "\n",
        "filtered_tokens = []\n"
      ],
      "metadata": {
        "id": "w3QjFHOCKeCO"
      },
      "execution_count": 15,
      "outputs": []
    },
    {
      "cell_type": "code",
      "source": [
        "for token in doc:\n",
        "    print(token,\" | \", token.pos_, \" | \", spacy.explain(token.pos_), \" | \", token.tag_, \" | \", spacy.explain(token.tag_))"
      ],
      "metadata": {
        "colab": {
          "base_uri": "https://localhost:8080/"
        },
        "id": "W5u6q_NnKmLb",
        "outputId": "47fcad41-7e8d-47a9-c554-168e9bd15a8d"
      },
      "execution_count": 16,
      "outputs": [
        {
          "output_type": "stream",
          "name": "stdout",
          "text": [
            "Microsoft  |  PROPN  |  proper noun  |  NNP  |  noun, proper singular\n",
            "Corp.  |  PROPN  |  proper noun  |  NNP  |  noun, proper singular\n",
            "today  |  NOUN  |  noun  |  NN  |  noun, singular or mass\n",
            "announced  |  VERB  |  verb  |  VBD  |  verb, past tense\n",
            "the  |  DET  |  determiner  |  DT  |  determiner\n",
            "following  |  VERB  |  verb  |  VBG  |  verb, gerund or present participle\n",
            "results  |  NOUN  |  noun  |  NNS  |  noun, plural\n",
            "for  |  ADP  |  adposition  |  IN  |  conjunction, subordinating or preposition\n",
            "the  |  DET  |  determiner  |  DT  |  determiner\n",
            "quarter  |  NOUN  |  noun  |  NN  |  noun, singular or mass\n",
            "ended  |  VERB  |  verb  |  VBD  |  verb, past tense\n",
            "December  |  PROPN  |  proper noun  |  NNP  |  noun, proper singular\n",
            "31  |  NUM  |  numeral  |  CD  |  cardinal number\n",
            ",  |  PUNCT  |  punctuation  |  ,  |  punctuation mark, comma\n",
            "2021  |  NUM  |  numeral  |  CD  |  cardinal number\n",
            ",  |  PUNCT  |  punctuation  |  ,  |  punctuation mark, comma\n",
            "as  |  SCONJ  |  subordinating conjunction  |  IN  |  conjunction, subordinating or preposition\n",
            "compared  |  VERB  |  verb  |  VBN  |  verb, past participle\n",
            "to  |  ADP  |  adposition  |  IN  |  conjunction, subordinating or preposition\n",
            "the  |  DET  |  determiner  |  DT  |  determiner\n",
            "corresponding  |  ADJ  |  adjective  |  JJ  |  adjective (English), other noun-modifier (Chinese)\n",
            "period  |  NOUN  |  noun  |  NN  |  noun, singular or mass\n",
            "of  |  ADP  |  adposition  |  IN  |  conjunction, subordinating or preposition\n",
            "last  |  ADJ  |  adjective  |  JJ  |  adjective (English), other noun-modifier (Chinese)\n",
            "fiscal  |  ADJ  |  adjective  |  JJ  |  adjective (English), other noun-modifier (Chinese)\n",
            "year  |  NOUN  |  noun  |  NN  |  noun, singular or mass\n",
            ":  |  PUNCT  |  punctuation  |  :  |  punctuation mark, colon or ellipsis\n",
            "\n",
            "\n",
            "  |  SPACE  |  space  |  _SP  |  whitespace\n",
            "·  |  PUNCT  |  punctuation  |  NFP  |  superfluous punctuation\n",
            "          |  SPACE  |  space  |  _SP  |  whitespace\n",
            "Revenue  |  NOUN  |  noun  |  NN  |  noun, singular or mass\n",
            "was  |  AUX  |  auxiliary  |  VBD  |  verb, past tense\n",
            "$  |  SYM  |  symbol  |  $  |  symbol, currency\n",
            "51.7  |  NUM  |  numeral  |  CD  |  cardinal number\n",
            "billion  |  NUM  |  numeral  |  CD  |  cardinal number\n",
            "and  |  CCONJ  |  coordinating conjunction  |  CC  |  conjunction, coordinating\n",
            "increased  |  VERB  |  verb  |  VBD  |  verb, past tense\n",
            "20  |  NUM  |  numeral  |  CD  |  cardinal number\n",
            "%  |  NOUN  |  noun  |  NN  |  noun, singular or mass\n",
            "\n",
            "  |  SPACE  |  space  |  _SP  |  whitespace\n",
            "·  |  PUNCT  |  punctuation  |  NFP  |  superfluous punctuation\n",
            "          |  SPACE  |  space  |  _SP  |  whitespace\n",
            "Operating  |  VERB  |  verb  |  VBG  |  verb, gerund or present participle\n",
            "income  |  NOUN  |  noun  |  NN  |  noun, singular or mass\n",
            "was  |  AUX  |  auxiliary  |  VBD  |  verb, past tense\n",
            "$  |  SYM  |  symbol  |  $  |  symbol, currency\n",
            "22.2  |  NUM  |  numeral  |  CD  |  cardinal number\n",
            "billion  |  NUM  |  numeral  |  CD  |  cardinal number\n",
            "and  |  CCONJ  |  coordinating conjunction  |  CC  |  conjunction, coordinating\n",
            "increased  |  VERB  |  verb  |  VBD  |  verb, past tense\n",
            "24  |  NUM  |  numeral  |  CD  |  cardinal number\n",
            "%  |  NOUN  |  noun  |  NN  |  noun, singular or mass\n",
            "\n",
            "  |  SPACE  |  space  |  _SP  |  whitespace\n",
            "·  |  PUNCT  |  punctuation  |  NFP  |  superfluous punctuation\n",
            "          |  SPACE  |  space  |  _SP  |  whitespace\n",
            "Net  |  ADJ  |  adjective  |  JJ  |  adjective (English), other noun-modifier (Chinese)\n",
            "income  |  NOUN  |  noun  |  NN  |  noun, singular or mass\n",
            "was  |  AUX  |  auxiliary  |  VBD  |  verb, past tense\n",
            "$  |  SYM  |  symbol  |  $  |  symbol, currency\n",
            "18.8  |  NUM  |  numeral  |  CD  |  cardinal number\n",
            "billion  |  NUM  |  numeral  |  CD  |  cardinal number\n",
            "and  |  CCONJ  |  coordinating conjunction  |  CC  |  conjunction, coordinating\n",
            "increased  |  VERB  |  verb  |  VBD  |  verb, past tense\n",
            "21  |  NUM  |  numeral  |  CD  |  cardinal number\n",
            "%  |  NOUN  |  noun  |  NN  |  noun, singular or mass\n",
            "\n",
            "  |  SPACE  |  space  |  _SP  |  whitespace\n",
            "·  |  PUNCT  |  punctuation  |  NFP  |  superfluous punctuation\n",
            "          |  SPACE  |  space  |  _SP  |  whitespace\n",
            "Diluted  |  VERB  |  verb  |  VBN  |  verb, past participle\n",
            "earnings  |  NOUN  |  noun  |  NNS  |  noun, plural\n",
            "per  |  ADP  |  adposition  |  IN  |  conjunction, subordinating or preposition\n",
            "share  |  NOUN  |  noun  |  NN  |  noun, singular or mass\n",
            "was  |  AUX  |  auxiliary  |  VBD  |  verb, past tense\n",
            "$  |  SYM  |  symbol  |  $  |  symbol, currency\n",
            "2.48  |  NUM  |  numeral  |  CD  |  cardinal number\n",
            "and  |  CCONJ  |  coordinating conjunction  |  CC  |  conjunction, coordinating\n",
            "increased  |  VERB  |  verb  |  VBD  |  verb, past tense\n",
            "22  |  NUM  |  numeral  |  CD  |  cardinal number\n",
            "%  |  NOUN  |  noun  |  NN  |  noun, singular or mass\n",
            "\n",
            "  |  SPACE  |  space  |  _SP  |  whitespace\n",
            "“  |  PUNCT  |  punctuation  |  ``  |  opening quotation mark\n",
            "Digital  |  PROPN  |  proper noun  |  NNP  |  noun, proper singular\n",
            "technology  |  NOUN  |  noun  |  NN  |  noun, singular or mass\n",
            "is  |  AUX  |  auxiliary  |  VBZ  |  verb, 3rd person singular present\n",
            "the  |  DET  |  determiner  |  DT  |  determiner\n",
            "most  |  ADV  |  adverb  |  RBS  |  adverb, superlative\n",
            "malleable  |  ADJ  |  adjective  |  JJ  |  adjective (English), other noun-modifier (Chinese)\n",
            "resource  |  NOUN  |  noun  |  NN  |  noun, singular or mass\n",
            "at  |  ADP  |  adposition  |  IN  |  conjunction, subordinating or preposition\n",
            "the  |  DET  |  determiner  |  DT  |  determiner\n",
            "world  |  NOUN  |  noun  |  NN  |  noun, singular or mass\n",
            "’s  |  PART  |  particle  |  POS  |  possessive ending\n",
            "disposal  |  NOUN  |  noun  |  NN  |  noun, singular or mass\n",
            "to  |  PART  |  particle  |  TO  |  infinitival \"to\"\n",
            "overcome  |  VERB  |  verb  |  VB  |  verb, base form\n",
            "constraints  |  NOUN  |  noun  |  NNS  |  noun, plural\n",
            "and  |  CCONJ  |  coordinating conjunction  |  CC  |  conjunction, coordinating\n",
            "reimagine  |  VERB  |  verb  |  VB  |  verb, base form\n",
            "everyday  |  ADJ  |  adjective  |  JJ  |  adjective (English), other noun-modifier (Chinese)\n",
            "work  |  NOUN  |  noun  |  NN  |  noun, singular or mass\n",
            "and  |  CCONJ  |  coordinating conjunction  |  CC  |  conjunction, coordinating\n",
            "life  |  NOUN  |  noun  |  NN  |  noun, singular or mass\n",
            ",  |  PUNCT  |  punctuation  |  ,  |  punctuation mark, comma\n",
            "”  |  PUNCT  |  punctuation  |  ''  |  closing quotation mark\n",
            "said  |  VERB  |  verb  |  VBD  |  verb, past tense\n",
            "Satya  |  PROPN  |  proper noun  |  NNP  |  noun, proper singular\n",
            "Nadella  |  PROPN  |  proper noun  |  NNP  |  noun, proper singular\n",
            ",  |  PUNCT  |  punctuation  |  ,  |  punctuation mark, comma\n",
            "chairman  |  NOUN  |  noun  |  NN  |  noun, singular or mass\n",
            "and  |  CCONJ  |  coordinating conjunction  |  CC  |  conjunction, coordinating\n",
            "chief  |  ADJ  |  adjective  |  JJ  |  adjective (English), other noun-modifier (Chinese)\n",
            "executive  |  ADJ  |  adjective  |  JJ  |  adjective (English), other noun-modifier (Chinese)\n",
            "officer  |  NOUN  |  noun  |  NN  |  noun, singular or mass\n",
            "of  |  ADP  |  adposition  |  IN  |  conjunction, subordinating or preposition\n",
            "Microsoft  |  PROPN  |  proper noun  |  NNP  |  noun, proper singular\n",
            ".  |  PUNCT  |  punctuation  |  .  |  punctuation mark, sentence closer\n",
            "“  |  PUNCT  |  punctuation  |  ``  |  opening quotation mark\n",
            "As  |  ADV  |  adverb  |  RB  |  adverb\n",
            "tech  |  NOUN  |  noun  |  NN  |  noun, singular or mass\n",
            "as  |  ADP  |  adposition  |  IN  |  conjunction, subordinating or preposition\n",
            "a  |  DET  |  determiner  |  DT  |  determiner\n",
            "percentage  |  NOUN  |  noun  |  NN  |  noun, singular or mass\n",
            "of  |  ADP  |  adposition  |  IN  |  conjunction, subordinating or preposition\n",
            "global  |  ADJ  |  adjective  |  JJ  |  adjective (English), other noun-modifier (Chinese)\n",
            "GDP  |  PROPN  |  proper noun  |  NNP  |  noun, proper singular\n",
            "continues  |  VERB  |  verb  |  VBZ  |  verb, 3rd person singular present\n",
            "to  |  PART  |  particle  |  TO  |  infinitival \"to\"\n",
            "increase  |  VERB  |  verb  |  VB  |  verb, base form\n",
            ",  |  PUNCT  |  punctuation  |  ,  |  punctuation mark, comma\n",
            "we  |  PRON  |  pronoun  |  PRP  |  pronoun, personal\n",
            "are  |  AUX  |  auxiliary  |  VBP  |  verb, non-3rd person singular present\n",
            "innovating  |  VERB  |  verb  |  VBG  |  verb, gerund or present participle\n",
            "and  |  CCONJ  |  coordinating conjunction  |  CC  |  conjunction, coordinating\n",
            "investing  |  VERB  |  verb  |  VBG  |  verb, gerund or present participle\n",
            "across  |  ADP  |  adposition  |  IN  |  conjunction, subordinating or preposition\n",
            "diverse  |  ADJ  |  adjective  |  JJ  |  adjective (English), other noun-modifier (Chinese)\n",
            "and  |  CCONJ  |  coordinating conjunction  |  CC  |  conjunction, coordinating\n",
            "growing  |  VERB  |  verb  |  VBG  |  verb, gerund or present participle\n",
            "markets  |  NOUN  |  noun  |  NNS  |  noun, plural\n",
            ",  |  PUNCT  |  punctuation  |  ,  |  punctuation mark, comma\n",
            "with  |  ADP  |  adposition  |  IN  |  conjunction, subordinating or preposition\n",
            "a  |  DET  |  determiner  |  DT  |  determiner\n",
            "common  |  ADJ  |  adjective  |  JJ  |  adjective (English), other noun-modifier (Chinese)\n",
            "underlying  |  VERB  |  verb  |  VBG  |  verb, gerund or present participle\n",
            "technology  |  NOUN  |  noun  |  NN  |  noun, singular or mass\n",
            "stack  |  NOUN  |  noun  |  NN  |  noun, singular or mass\n",
            "and  |  CCONJ  |  coordinating conjunction  |  CC  |  conjunction, coordinating\n",
            "an  |  DET  |  determiner  |  DT  |  determiner\n",
            "operating  |  NOUN  |  noun  |  NN  |  noun, singular or mass\n",
            "model  |  NOUN  |  noun  |  NN  |  noun, singular or mass\n",
            "that  |  PRON  |  pronoun  |  WDT  |  wh-determiner\n",
            "reinforces  |  VERB  |  verb  |  VBZ  |  verb, 3rd person singular present\n",
            "a  |  DET  |  determiner  |  DT  |  determiner\n",
            "common  |  ADJ  |  adjective  |  JJ  |  adjective (English), other noun-modifier (Chinese)\n",
            "strategy  |  NOUN  |  noun  |  NN  |  noun, singular or mass\n",
            ",  |  PUNCT  |  punctuation  |  ,  |  punctuation mark, comma\n",
            "culture  |  NOUN  |  noun  |  NN  |  noun, singular or mass\n",
            ",  |  PUNCT  |  punctuation  |  ,  |  punctuation mark, comma\n",
            "and  |  CCONJ  |  coordinating conjunction  |  CC  |  conjunction, coordinating\n",
            "sense  |  NOUN  |  noun  |  NN  |  noun, singular or mass\n",
            "of  |  ADP  |  adposition  |  IN  |  conjunction, subordinating or preposition\n",
            "purpose  |  NOUN  |  noun  |  NN  |  noun, singular or mass\n",
            ".  |  PUNCT  |  punctuation  |  .  |  punctuation mark, sentence closer\n",
            "”  |  PUNCT  |  punctuation  |  ''  |  closing quotation mark\n",
            "\n",
            "  |  SPACE  |  space  |  _SP  |  whitespace\n",
            "“  |  PUNCT  |  punctuation  |  ``  |  opening quotation mark\n",
            "Solid  |  ADJ  |  adjective  |  JJ  |  adjective (English), other noun-modifier (Chinese)\n",
            "commercial  |  ADJ  |  adjective  |  JJ  |  adjective (English), other noun-modifier (Chinese)\n",
            "execution  |  NOUN  |  noun  |  NN  |  noun, singular or mass\n",
            ",  |  PUNCT  |  punctuation  |  ,  |  punctuation mark, comma\n",
            "represented  |  VERB  |  verb  |  VBN  |  verb, past participle\n",
            "by  |  ADP  |  adposition  |  IN  |  conjunction, subordinating or preposition\n",
            "strong  |  ADJ  |  adjective  |  JJ  |  adjective (English), other noun-modifier (Chinese)\n",
            "bookings  |  NOUN  |  noun  |  NNS  |  noun, plural\n",
            "growth  |  NOUN  |  noun  |  NN  |  noun, singular or mass\n",
            "driven  |  VERB  |  verb  |  VBN  |  verb, past participle\n",
            "by  |  ADP  |  adposition  |  IN  |  conjunction, subordinating or preposition\n",
            "long  |  ADJ  |  adjective  |  JJ  |  adjective (English), other noun-modifier (Chinese)\n",
            "-  |  PUNCT  |  punctuation  |  HYPH  |  punctuation mark, hyphen\n",
            "term  |  NOUN  |  noun  |  NN  |  noun, singular or mass\n",
            "Azure  |  ADJ  |  adjective  |  JJ  |  adjective (English), other noun-modifier (Chinese)\n",
            "commitments  |  NOUN  |  noun  |  NNS  |  noun, plural\n",
            ",  |  PUNCT  |  punctuation  |  ,  |  punctuation mark, comma\n",
            "increased  |  VERB  |  verb  |  VBD  |  verb, past tense\n",
            "Microsoft  |  PROPN  |  proper noun  |  NNP  |  noun, proper singular\n",
            "Cloud  |  PROPN  |  proper noun  |  NNP  |  noun, proper singular\n",
            "revenue  |  NOUN  |  noun  |  NN  |  noun, singular or mass\n",
            "to  |  ADP  |  adposition  |  IN  |  conjunction, subordinating or preposition\n",
            "$  |  SYM  |  symbol  |  $  |  symbol, currency\n",
            "22.1  |  NUM  |  numeral  |  CD  |  cardinal number\n",
            "billion  |  NUM  |  numeral  |  CD  |  cardinal number\n",
            ",  |  PUNCT  |  punctuation  |  ,  |  punctuation mark, comma\n",
            "up  |  ADV  |  adverb  |  RB  |  adverb\n",
            "32  |  NUM  |  numeral  |  CD  |  cardinal number\n",
            "%  |  NOUN  |  noun  |  NN  |  noun, singular or mass\n",
            "year  |  NOUN  |  noun  |  NN  |  noun, singular or mass\n",
            "over  |  ADP  |  adposition  |  IN  |  conjunction, subordinating or preposition\n",
            "year  |  NOUN  |  noun  |  NN  |  noun, singular or mass\n",
            "”  |  PUNCT  |  punctuation  |  ''  |  closing quotation mark\n",
            "said  |  VERB  |  verb  |  VBD  |  verb, past tense\n",
            "Amy  |  PROPN  |  proper noun  |  NNP  |  noun, proper singular\n",
            "Hood  |  PROPN  |  proper noun  |  NNP  |  noun, proper singular\n",
            ",  |  PUNCT  |  punctuation  |  ,  |  punctuation mark, comma\n",
            "executive  |  ADJ  |  adjective  |  JJ  |  adjective (English), other noun-modifier (Chinese)\n",
            "vice  |  NOUN  |  noun  |  NN  |  noun, singular or mass\n",
            "president  |  NOUN  |  noun  |  NN  |  noun, singular or mass\n",
            "and  |  CCONJ  |  coordinating conjunction  |  CC  |  conjunction, coordinating\n",
            "chief  |  ADJ  |  adjective  |  JJ  |  adjective (English), other noun-modifier (Chinese)\n",
            "financial  |  ADJ  |  adjective  |  JJ  |  adjective (English), other noun-modifier (Chinese)\n",
            "officer  |  NOUN  |  noun  |  NN  |  noun, singular or mass\n",
            "of  |  ADP  |  adposition  |  IN  |  conjunction, subordinating or preposition\n",
            "Microsoft  |  PROPN  |  proper noun  |  NNP  |  noun, proper singular\n",
            ".  |  PUNCT  |  punctuation  |  .  |  punctuation mark, sentence closer\n"
          ]
        }
      ]
    },
    {
      "cell_type": "code",
      "source": [
        "\n",
        "for token in doc:\n",
        "    if token.pos_ not in [\"SPACE\", \"PUNCT\", \"X\"]:\n",
        "        filtered_tokens.append(token)"
      ],
      "metadata": {
        "id": "3lfRk0iPKyJN"
      },
      "execution_count": 17,
      "outputs": []
    },
    {
      "cell_type": "code",
      "source": [
        "print(token)"
      ],
      "metadata": {
        "colab": {
          "base_uri": "https://localhost:8080/"
        },
        "id": "W3isRYNvK3w8",
        "outputId": "98275a7c-0f5f-4347-e58b-4d2419c63747"
      },
      "execution_count": 20,
      "outputs": [
        {
          "output_type": "stream",
          "name": "stdout",
          "text": [
            ".\n"
          ]
        }
      ]
    },
    {
      "cell_type": "code",
      "source": [
        "doc = nlp(earnings_text)\n",
        "\n",
        "filtered_tokens = []\n",
        "\n",
        "for token in doc:\n",
        "    if token.pos_ not in [\"SPACE\", \"PUNCT\", \"X\"]:\n",
        "        filtered_tokens.append(token)"
      ],
      "metadata": {
        "id": "Vmj0q0vhK61F"
      },
      "execution_count": 21,
      "outputs": []
    },
    {
      "cell_type": "code",
      "source": [
        "filtered_tokens[:]"
      ],
      "metadata": {
        "colab": {
          "base_uri": "https://localhost:8080/"
        },
        "id": "MISLLF8ELEoH",
        "outputId": "7727c71e-0f7d-4418-fa61-caa31baf59dd"
      },
      "execution_count": 23,
      "outputs": [
        {
          "output_type": "execute_result",
          "data": {
            "text/plain": [
              "[Microsoft,\n",
              " Corp.,\n",
              " today,\n",
              " announced,\n",
              " the,\n",
              " following,\n",
              " results,\n",
              " for,\n",
              " the,\n",
              " quarter,\n",
              " ended,\n",
              " December,\n",
              " 31,\n",
              " 2021,\n",
              " as,\n",
              " compared,\n",
              " to,\n",
              " the,\n",
              " corresponding,\n",
              " period,\n",
              " of,\n",
              " last,\n",
              " fiscal,\n",
              " year,\n",
              " Revenue,\n",
              " was,\n",
              " $,\n",
              " 51.7,\n",
              " billion,\n",
              " and,\n",
              " increased,\n",
              " 20,\n",
              " %,\n",
              " Operating,\n",
              " income,\n",
              " was,\n",
              " $,\n",
              " 22.2,\n",
              " billion,\n",
              " and,\n",
              " increased,\n",
              " 24,\n",
              " %,\n",
              " Net,\n",
              " income,\n",
              " was,\n",
              " $,\n",
              " 18.8,\n",
              " billion,\n",
              " and,\n",
              " increased,\n",
              " 21,\n",
              " %,\n",
              " Diluted,\n",
              " earnings,\n",
              " per,\n",
              " share,\n",
              " was,\n",
              " $,\n",
              " 2.48,\n",
              " and,\n",
              " increased,\n",
              " 22,\n",
              " %,\n",
              " Digital,\n",
              " technology,\n",
              " is,\n",
              " the,\n",
              " most,\n",
              " malleable,\n",
              " resource,\n",
              " at,\n",
              " the,\n",
              " world,\n",
              " ’s,\n",
              " disposal,\n",
              " to,\n",
              " overcome,\n",
              " constraints,\n",
              " and,\n",
              " reimagine,\n",
              " everyday,\n",
              " work,\n",
              " and,\n",
              " life,\n",
              " said,\n",
              " Satya,\n",
              " Nadella,\n",
              " chairman,\n",
              " and,\n",
              " chief,\n",
              " executive,\n",
              " officer,\n",
              " of,\n",
              " Microsoft,\n",
              " As,\n",
              " tech,\n",
              " as,\n",
              " a,\n",
              " percentage,\n",
              " of,\n",
              " global,\n",
              " GDP,\n",
              " continues,\n",
              " to,\n",
              " increase,\n",
              " we,\n",
              " are,\n",
              " innovating,\n",
              " and,\n",
              " investing,\n",
              " across,\n",
              " diverse,\n",
              " and,\n",
              " growing,\n",
              " markets,\n",
              " with,\n",
              " a,\n",
              " common,\n",
              " underlying,\n",
              " technology,\n",
              " stack,\n",
              " and,\n",
              " an,\n",
              " operating,\n",
              " model,\n",
              " that,\n",
              " reinforces,\n",
              " a,\n",
              " common,\n",
              " strategy,\n",
              " culture,\n",
              " and,\n",
              " sense,\n",
              " of,\n",
              " purpose,\n",
              " Solid,\n",
              " commercial,\n",
              " execution,\n",
              " represented,\n",
              " by,\n",
              " strong,\n",
              " bookings,\n",
              " growth,\n",
              " driven,\n",
              " by,\n",
              " long,\n",
              " term,\n",
              " Azure,\n",
              " commitments,\n",
              " increased,\n",
              " Microsoft,\n",
              " Cloud,\n",
              " revenue,\n",
              " to,\n",
              " $,\n",
              " 22.1,\n",
              " billion,\n",
              " up,\n",
              " 32,\n",
              " %,\n",
              " year,\n",
              " over,\n",
              " year,\n",
              " said,\n",
              " Amy,\n",
              " Hood,\n",
              " executive,\n",
              " vice,\n",
              " president,\n",
              " and,\n",
              " chief,\n",
              " financial,\n",
              " officer,\n",
              " of,\n",
              " Microsoft]"
            ]
          },
          "metadata": {},
          "execution_count": 23
        }
      ]
    },
    {
      "cell_type": "code",
      "source": [
        "count = doc.count_by(spacy.attrs.POS)\n",
        "count"
      ],
      "metadata": {
        "colab": {
          "base_uri": "https://localhost:8080/"
        },
        "id": "0GfHr9ywLHR1",
        "outputId": "f1662290-9a79-41f9-9b7c-c91447959b12"
      },
      "execution_count": 24,
      "outputs": [
        {
          "output_type": "execute_result",
          "data": {
            "text/plain": [
              "{96: 13,\n",
              " 92: 46,\n",
              " 100: 24,\n",
              " 90: 9,\n",
              " 85: 16,\n",
              " 93: 16,\n",
              " 97: 27,\n",
              " 98: 1,\n",
              " 84: 20,\n",
              " 103: 10,\n",
              " 87: 6,\n",
              " 99: 5,\n",
              " 89: 12,\n",
              " 86: 3,\n",
              " 94: 3,\n",
              " 95: 2}"
            ]
          },
          "metadata": {},
          "execution_count": 24
        }
      ]
    },
    {
      "cell_type": "code",
      "source": [
        "count = doc.count_by(spacy.attrs.POS)\n",
        "count"
      ],
      "metadata": {
        "colab": {
          "base_uri": "https://localhost:8080/"
        },
        "id": "9_LrJx0eLMI_",
        "outputId": "52baf3d9-953d-4d7f-ee0f-ed2ba61f4189"
      },
      "execution_count": 25,
      "outputs": [
        {
          "output_type": "execute_result",
          "data": {
            "text/plain": [
              "{96: 13,\n",
              " 92: 46,\n",
              " 100: 24,\n",
              " 90: 9,\n",
              " 85: 16,\n",
              " 93: 16,\n",
              " 97: 27,\n",
              " 98: 1,\n",
              " 84: 20,\n",
              " 103: 10,\n",
              " 87: 6,\n",
              " 99: 5,\n",
              " 89: 12,\n",
              " 86: 3,\n",
              " 94: 3,\n",
              " 95: 2}"
            ]
          },
          "metadata": {},
          "execution_count": 25
        }
      ]
    },
    {
      "cell_type": "code",
      "source": [
        "doc.vocab[96].text\n"
      ],
      "metadata": {
        "colab": {
          "base_uri": "https://localhost:8080/",
          "height": 35
        },
        "id": "e8zuIL_eLXoZ",
        "outputId": "4a55e7ba-5b7f-4f6d-9a95-e6eb65aa01e1"
      },
      "execution_count": 26,
      "outputs": [
        {
          "output_type": "execute_result",
          "data": {
            "text/plain": [
              "'PROPN'"
            ],
            "application/vnd.google.colaboratory.intrinsic+json": {
              "type": "string"
            }
          },
          "metadata": {},
          "execution_count": 26
        }
      ]
    },
    {
      "cell_type": "code",
      "source": [
        "for k,v in count.items():\n",
        "    print(doc.vocab[k].text, \"|\",v)"
      ],
      "metadata": {
        "colab": {
          "base_uri": "https://localhost:8080/"
        },
        "id": "CDpHRK1sLaVE",
        "outputId": "bc96c0cb-b24a-4905-b090-96c2ef2e7f88"
      },
      "execution_count": 27,
      "outputs": [
        {
          "output_type": "stream",
          "name": "stdout",
          "text": [
            "PROPN | 13\n",
            "NOUN | 46\n",
            "VERB | 24\n",
            "DET | 9\n",
            "ADP | 16\n",
            "NUM | 16\n",
            "PUNCT | 27\n",
            "SCONJ | 1\n",
            "ADJ | 20\n",
            "SPACE | 10\n",
            "AUX | 6\n",
            "SYM | 5\n",
            "CCONJ | 12\n",
            "ADV | 3\n",
            "PART | 3\n",
            "PRON | 2\n"
          ]
        }
      ]
    },
    {
      "cell_type": "code",
      "source": [],
      "metadata": {
        "id": "AU9Rh5B4LdLv"
      },
      "execution_count": null,
      "outputs": []
    }
  ]
}